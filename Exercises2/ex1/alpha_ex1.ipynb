{
 "cells": [
  {
   "cell_type": "markdown",
   "id": "cbf012da",
   "metadata": {},
   "source": [
    "# Exercises 1"
   ]
  },
  {
   "cell_type": "markdown",
   "id": "51db6a54",
   "metadata": {},
   "source": [
    "\"\"\"\n",
    "## Task 1\n",
    "\n",
    "Your task is to create a variable called `city` to store the data: `London` , then print the content of the `city` variable on the screen.\n",
    "\n",
    "- Your result should look like this:\n",
    "\n",
    "```\n",
    "London\n",
    "```\n",
    "\n",
    "\n",
    "\"\"\"\""
   ]
  },
  {
   "cell_type": "code",
   "execution_count": 13,
   "id": "1f1e5322",
   "metadata": {},
   "outputs": [
    {
     "data": {
      "text/plain": [
       "'London'"
      ]
     },
     "execution_count": 13,
     "metadata": {},
     "output_type": "execute_result"
    }
   ],
   "source": [
    "city=\"london\"\n",
    "city.capitalize()"
   ]
  },
  {
   "cell_type": "markdown",
   "id": "2157022e",
   "metadata": {},
   "source": [
    "### Task 2\n",
    "\n",
    "\"\"\"\"Your task is to create two variables, the first variable to be called `city` and will store the data: `berlin` , and the second variable to be called `population` and will store the data: `3645000`. Then print the content of the `city` and `population` using a colon (`:`)  in between.  Make sure you capitalize the content of the `city` variable.\n",
    "\n",
    "- Your result should look like this:\n",
    "\n",
    "```\n",
    "Berlin: 3645000\n",
    " \"\"\"\""
   ]
  },
  {
   "cell_type": "code",
   "execution_count": 14,
   "id": "3424a93a",
   "metadata": {},
   "outputs": [
    {
     "name": "stdout",
     "output_type": "stream",
     "text": [
      "Berlin : 36450000\n"
     ]
    }
   ],
   "source": [
    "city=\"berlin\"\n",
    "population = 36450000\n",
    "print(city.capitalize(),\":\", population)"
   ]
  },
  {
   "cell_type": "markdown",
   "id": "63732e1e",
   "metadata": {},
   "source": [
    " \n",
    "### Task 3\n",
    "\n",
    "Your task is to create two variables, the first variable to be called `city` and will store the data: `london` , and the second variable to be called `population` and will store the data: `9000000`. Then print the content of the `city` and `population` using their labels as shown in the output below. Make sure you check if the content of the `city` is a text. Print the appropriate results on screen as shown bellow.\n",
    "\n",
    "- Your result should look like this:\n",
    "\n",
    "```\n",
    "City: London (True)\n",
    "Population: 9000000\n",
    "```\n"
   ]
  },
  {
   "cell_type": "code",
   "execution_count": 57,
   "id": "eb442d59",
   "metadata": {},
   "outputs": [
    {
     "name": "stdout",
     "output_type": "stream",
     "text": [
      "City: London (True)  \n",
      "Population: 9000000\n"
     ]
    }
   ],
   "source": [
    "city=\"london\"\n",
    "population=\"9000000\"\n",
    "T = city.isalpha()\n",
    "print(f\"City: {city.capitalize()} ({T})  \\nPopulation: {population}\")"
   ]
  },
  {
   "cell_type": "markdown",
   "id": "af6f7e48",
   "metadata": {},
   "source": [
    "### Task 4\n",
    "\n",
    "Create a variable called `text` to store the data: `Berlin is surrounded by the State of Brandenburg and contiguous with Potsdam, Brandenburg's capital.` . Your task is to check if  the word `capital`  is included in the text, if so, print the index of the location inside the `text` string.\n",
    "\n",
    "- Your result should look like this:\n",
    "\n",
    "```\n",
    "capital: 92\n"
   ]
  },
  {
   "cell_type": "code",
   "execution_count": 63,
   "id": "5226a7f9",
   "metadata": {},
   "outputs": [
    {
     "name": "stdout",
     "output_type": "stream",
     "text": [
      "capital:  92\n"
     ]
    }
   ],
   "source": [
    "text= \"Berlin is surrounded by the State of Brandenburg and contiguous with Potsdam, Brandenburg's capital.\"\n",
    "text_list = text.split()\n",
    "\n",
    "#print(text_list)\n",
    "for word in text_list:\n",
    "    if word==\"capital.\":\n",
    "        print(\"capital: \",text.index(\"capital\"))"
   ]
  },
  {
   "cell_type": "code",
   "execution_count": 64,
   "id": "e4783b4d",
   "metadata": {},
   "outputs": [
    {
     "ename": "SyntaxError",
     "evalue": "invalid syntax (826870059.py, line 1)",
     "output_type": "error",
     "traceback": [
      "\u001b[0;36m  Input \u001b[0;32mIn [64]\u001b[0;36m\u001b[0m\n\u001b[0;31m    {word for word in text_list if word==\"capital.\"  text.index(\"capital\")}\u001b[0m\n\u001b[0m                                                     ^\u001b[0m\n\u001b[0;31mSyntaxError\u001b[0m\u001b[0;31m:\u001b[0m invalid syntax\n"
     ]
    }
   ],
   "source": [
    "{word for word in text_list if word==\"capital.\"  text.index(\"capital\")}"
   ]
  },
  {
   "cell_type": "markdown",
   "id": "d10d56f9",
   "metadata": {},
   "source": [
    "## Task 5\n",
    "\n",
    "Create a variable called `text` to store the data: `Berlin straddles the banks of the Spree, which flows into the Havel (a tributary of the Elbe) in the western borough of Spandau.` . Your task is to split the content of the `text` variable and store it in a list.\n",
    "\n",
    "- Your result should look like this:\n",
    "\n",
    "```\n",
    "['Berlin', 'straddles', 'the', 'banks', 'of', 'the', 'Spree,', 'which', 'flows', 'into', 'the', 'Havel', '(a', 'tributary', 'of', 'the', 'Elbe)', 'in', 'the', 'western', 'borough', 'of', 'Spandau.']\n",
    "```\n",
    "\n",
    "### \n"
   ]
  },
  {
   "cell_type": "code",
   "execution_count": 41,
   "id": "2382222e",
   "metadata": {},
   "outputs": [
    {
     "name": "stdout",
     "output_type": "stream",
     "text": [
      "['Berlin', 'straddles', 'the', 'banks', 'of', 'the', 'Spree,', 'which', 'flows', 'into', 'the', 'Havel', '(a', 'tributary', 'of', 'the', 'Elbe)', 'in', 'the', 'western', 'borough', 'of', 'Spandau.']\n"
     ]
    }
   ],
   "source": [
    "text = \"Berlin straddles the banks of the Spree, which flows into the Havel (a tributary of the Elbe) in the western borough of Spandau.\"\n",
    "print(text.split())"
   ]
  },
  {
   "cell_type": "markdown",
   "id": "493fee7d",
   "metadata": {},
   "source": [
    "## Task 6\n",
    "\n",
    "Create a variable called `text` to store the data: `Berlin is surrounded by the State of Brandenburg and contiguous with Potsdam, Brandenburg's capital.` . Your task is to replace the word `capital` with the phrase  `capital of Germany` .\n",
    "\n",
    "- Your result should look like this:\n",
    "\n",
    "```\n",
    "Berlin is surrounded by the State of Brandenburg and contiguous with Potsdam, Brandenburg's capital of Germany.\n",
    "```\n"
   ]
  },
  {
   "cell_type": "code",
   "execution_count": 48,
   "id": "e4aff41c",
   "metadata": {},
   "outputs": [
    {
     "name": "stdout",
     "output_type": "stream",
     "text": [
      "Berlin is surrounded by the State of Brandenburg and contiguous with Potsdam, Brandenburg's capital of Germany.\n"
     ]
    }
   ],
   "source": [
    "text= \"Berlin is surrounded by the State of Brandenburg and contiguous with Potsdam, Brandenburg's capital.\"\n",
    "text_split2= text.split()\n",
    "for word in text_split2:\n",
    "    if word==\"capital.\":\n",
    "        print(text.replace(\"capital.\", \"capital of Germany.\"))\n",
    "    "
   ]
  },
  {
   "cell_type": "code",
   "execution_count": null,
   "id": "090ebf3d",
   "metadata": {},
   "outputs": [],
   "source": []
  }
 ],
 "metadata": {
  "kernelspec": {
   "display_name": "Python 3 (ipykernel)",
   "language": "python",
   "name": "python3"
  },
  "language_info": {
   "codemirror_mode": {
    "name": "ipython",
    "version": 3
   },
   "file_extension": ".py",
   "mimetype": "text/x-python",
   "name": "python",
   "nbconvert_exporter": "python",
   "pygments_lexer": "ipython3",
   "version": "3.8.10"
  }
 },
 "nbformat": 4,
 "nbformat_minor": 5
}
