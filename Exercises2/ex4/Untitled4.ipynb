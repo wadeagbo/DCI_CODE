{
 "cells": [
  {
   "cell_type": "code",
   "execution_count": 3,
   "id": "29d6f48f",
   "metadata": {},
   "outputs": [],
   "source": [
    "a = [1, 2, 4, 5, 7, 8, 10]\n",
    "n = len(a)\n",
    "d = 3\n",
    "c = []\n",
    "for i in range(n):\n",
    "  for j in range(i,n):\n",
    "    for k in range(j,n):\n",
    "        for x,y,z in zip([a[i]], [a[j]], [a[k]]):\n",
    "#            print(x,y,z)\n",
    "            pass"
   ]
  },
  {
   "cell_type": "code",
   "execution_count": null,
   "id": "f1c6d3b1",
   "metadata": {},
   "outputs": [],
   "source": []
  },
  {
   "cell_type": "code",
   "execution_count": 4,
   "id": "ea43a6b4",
   "metadata": {},
   "outputs": [
    {
     "name": "stdout",
     "output_type": "stream",
     "text": [
      "Original List:  [1, 2, 4, 2, 1, 4, 5]\n",
      "List after removing duplicate elements:  [1, 2, 4, 5]\n"
     ]
    }
   ],
   "source": [
    "# Python 3 code to demonstrate\n",
    "# removing duplicate elements from the list\n",
    "l = [1, 2, 4, 2, 1, 4, 5]\n",
    "print(\"Original List: \", l)\n",
    "res = [*set(l)]\n",
    "print(\"List after removing duplicate elements: \", res)"
   ]
  },
  {
   "cell_type": "code",
   "execution_count": 5,
   "id": "fdf83429",
   "metadata": {},
   "outputs": [
    {
     "data": {
      "text/plain": [
       "'mpt'"
      ]
     },
     "execution_count": 5,
     "metadata": {},
     "output_type": "execute_result"
    }
   ],
   "source": [
    "foo='mppmt'\n",
    "''.join([j for i,j in enumerate(foo) if j not in foo[:i]])"
   ]
  },
  {
   "cell_type": "code",
   "execution_count": null,
   "id": "6db8e6a9",
   "metadata": {},
   "outputs": [],
   "source": []
  }
 ],
 "metadata": {
  "kernelspec": {
   "display_name": "Python 3 (ipykernel)",
   "language": "python",
   "name": "python3"
  },
  "language_info": {
   "codemirror_mode": {
    "name": "ipython",
    "version": 3
   },
   "file_extension": ".py",
   "mimetype": "text/x-python",
   "name": "python",
   "nbconvert_exporter": "python",
   "pygments_lexer": "ipython3",
   "version": "3.8.10"
  }
 },
 "nbformat": 4,
 "nbformat_minor": 5
}
