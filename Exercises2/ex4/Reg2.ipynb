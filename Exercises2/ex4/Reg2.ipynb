{
 "cells": [
  {
   "cell_type": "markdown",
   "id": "4fdb77f4",
   "metadata": {},
   "source": [
    "#  Regex"
   ]
  },
  {
   "cell_type": "code",
   "execution_count": 3,
   "id": "9ee3c141",
   "metadata": {},
   "outputs": [],
   "source": [
    "import re  # import the regular expression library"
   ]
  },
  {
   "cell_type": "code",
   "execution_count": 4,
   "id": "133626d8",
   "metadata": {},
   "outputs": [],
   "source": [
    "text_to_be_searched =\"some tex mail@web.de some ext\" # target"
   ]
  },
  {
   "cell_type": "code",
   "execution_count": 5,
   "id": "749a58f5",
   "metadata": {},
   "outputs": [],
   "source": [
    "text = \"\"\"Hey Mr. Bezos,\n",
    "I hope its okay I message you in this unsecure email program. Sry about that!\n",
    "Here the list of extremely confidential clients and close coworkers of you who actually visited Epsteins island. Oh boy how I hope no random Python Students extract this sensitive list with some kind of regular expressions! \n",
    "therealjeffbezos@bossnet.com\n",
    "markzuckerbergtheman@facebookormetaidkmail.com\n",
    "donaldtothatrump@getthatcapitolmail.com\n",
    "2pacaintdeadandnowchillinonwrongislands@mail.com\n",
    "Let me give you for some reason also your most important passwords to continue running amazon! Sorry Im new at this job.\n",
    "epsteindidntkillhimself14141\n",
    "ThIs1s4ctua11YaG00dPa$$w0rD\n",
    "123456seven\n",
    "password\n",
    "Kind regards,\n",
    "the soon to be fired secretary Tanisha\"\"\""
   ]
  },
  {
   "cell_type": "code",
   "execution_count": 10,
   "id": "a0b709c1",
   "metadata": {},
   "outputs": [
    {
     "name": "stdout",
     "output_type": "stream",
     "text": [
      "['therealjeffbezos@bossnet.com', 'markzuckerbergtheman@facebookormetaidkmail.com', 'donaldtothatrump@getthatcapitolmail.com', '2pacaintdeadandnowchillinonwrongislands@mail.com']\n"
     ]
    }
   ],
   "source": [
    "pattern = \"[a-zA-Z0-9]+@[a-zA-Z0-9]+\\.[a-z]{3}\"\n",
    "print(re.findall(pattern,text))"
   ]
  },
  {
   "cell_type": "code",
   "execution_count": 11,
   "id": "7096ac62",
   "metadata": {},
   "outputs": [
    {
     "name": "stdout",
     "output_type": "stream",
     "text": [
      "['therealjeffbezos@bossnet.com', 'markzuckerbergtheman@facebookormetaidkmail.com', 'donaldtothatrump@getthatcapitolmail.com', '2pacaintdeadandnowchillinonwrongislands@mail.com']\n"
     ]
    }
   ],
   "source": [
    "print(re.findall(pattern,text,re.DOTALL))"
   ]
  },
  {
   "cell_type": "code",
   "execution_count": null,
   "id": "06828a89",
   "metadata": {},
   "outputs": [],
   "source": []
  },
  {
   "cell_type": "markdown",
   "id": "77665c18",
   "metadata": {},
   "source": [
    "# \\w word character a-z, A-Z , 0-9, -, "
   ]
  },
  {
   "cell_type": "code",
   "execution_count": 12,
   "id": "06d83584",
   "metadata": {},
   "outputs": [
    {
     "name": "stdout",
     "output_type": "stream",
     "text": [
      "['therealjeffbezos@bossnet.com', 'markzuckerbergtheman@facebookormetaidkmail.com', 'donaldtothatrump@getthatcapitolmail.com', '2pacaintdeadandnowchillinonwrongislands@mail.com']\n"
     ]
    }
   ],
   "source": [
    "pattern = \"\\w+@\\w+.\\w+\"\n",
    "print(re.findall(pattern,text))"
   ]
  },
  {
   "cell_type": "code",
   "execution_count": null,
   "id": "fbae3d28",
   "metadata": {},
   "outputs": [],
   "source": []
  }
 ],
 "metadata": {
  "kernelspec": {
   "display_name": "Python 3 (ipykernel)",
   "language": "python",
   "name": "python3"
  },
  "language_info": {
   "codemirror_mode": {
    "name": "ipython",
    "version": 3
   },
   "file_extension": ".py",
   "mimetype": "text/x-python",
   "name": "python",
   "nbconvert_exporter": "python",
   "pygments_lexer": "ipython3",
   "version": "3.8.10"
  }
 },
 "nbformat": 4,
 "nbformat_minor": 5
}
