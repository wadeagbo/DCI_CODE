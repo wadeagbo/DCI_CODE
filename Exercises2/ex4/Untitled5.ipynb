{
 "cells": [
  {
   "cell_type": "code",
   "execution_count": 67,
   "id": "b0837847",
   "metadata": {
    "scrolled": false
   },
   "outputs": [
    {
     "name": "stdout",
     "output_type": "stream",
     "text": [
      "12   N\n",
      "1   e\n",
      "1   e\n",
      "4   o\n"
     ]
    },
    {
     "data": {
      "text/plain": [
       "'Neeo'"
      ]
     },
     "execution_count": 67,
     "metadata": {},
     "output_type": "execute_result"
    }
   ],
   "source": [
    "string=\"Hello World N\"\n",
    "wordf=\"Nemo\"\n",
    "\n",
    "def select_word(word,given_string):\n",
    "    greet =word\n",
    "    ng= len(greet)\n",
    "    greet_new =\"\"\n",
    "    num1 =\"\"\n",
    "    for char1 in greet:\n",
    "        for char2 in given_string:\n",
    "            if char2==char1:\n",
    "                greet_new +=char2\n",
    "                num = given_string.index(char2)\n",
    "        num1  += given_string[num]\n",
    "        print(num, \" \", given_string[num] )\n",
    "    return num1\n",
    "\n",
    "select_word(wordf,string)"
   ]
  },
  {
   "cell_type": "code",
   "execution_count": null,
   "id": "bd558f77",
   "metadata": {},
   "outputs": [],
   "source": []
  },
  {
   "cell_type": "code",
   "execution_count": 68,
   "id": "a792a813",
   "metadata": {},
   "outputs": [],
   "source": [
    "string1= \"I am finding Nemo !\""
   ]
  },
  {
   "cell_type": "code",
   "execution_count": 69,
   "id": "fd2e08c8",
   "metadata": {},
   "outputs": [
    {
     "data": {
      "text/plain": [
       "13"
      ]
     },
     "execution_count": 69,
     "metadata": {},
     "output_type": "execute_result"
    }
   ],
   "source": [
    "string1.find(\"Nemo\")"
   ]
  },
  {
   "cell_type": "markdown",
   "id": "ce7e1639",
   "metadata": {},
   "source": [
    "# Exercise 8"
   ]
  },
  {
   "cell_type": "markdown",
   "id": "4004b1a1",
   "metadata": {},
   "source": [
    "\"\"\"\n",
    "# find in Python\n",
    "\n",
    "## Task - Finding Nemo\n",
    "\n",
    "You need to find the word \"Nemo\" in a given string and return its position in that string, like this:\n",
    "\n",
    "```\n",
    "I found Nemo at [index]!\n",
    "```\n",
    "\n",
    "If you can't find Nemo, return:\n",
    "\n",
    "```\n",
    "I can't find Nemo :(\"\n",
    "```\n",
    "\n",
    "## Examples:\n",
    "```\n",
    "\"I am finding Nemo !\"  -->    \"I found Nemo at 13!\"  \n",
    "\"Nemo is me\"           -->    \"I found Nemo at 0!\"  \n",
    "\"I Nemo am\"            -->    \"I found Nemo at 2!\"  \n",
    "\"Hello World\"          -->    \"I can't find Nemo :(\"  \n",
    "```\n",
    "\n",
    "\"\"\"\n"
   ]
  },
  {
   "cell_type": "code",
   "execution_count": 70,
   "id": "0189017a",
   "metadata": {},
   "outputs": [
    {
     "name": "stdout",
     "output_type": "stream",
     "text": [
      "I found Nemo at  13!\n",
      "I found Nemo at  0!\n",
      "I found Nemo at  2!\n",
      "I can't find Nemo :( \n"
     ]
    }
   ],
   "source": [
    "string_set = [\"I am finding Nemo !\", \"Nemo is me\" , \"I Nemo am\", \"Hello World\"]\n",
    "for eachstr in string_set:\n",
    "    nfind= eachstr.find(\"Nemo\") \n",
    "    if  nfind >=0:\n",
    "        print(f\"I found Nemo at  {nfind}!\")\n",
    "    else:\n",
    "        print(f\"I can't find Nemo :( \" )"
   ]
  },
  {
   "cell_type": "markdown",
   "id": "5af0d46e",
   "metadata": {},
   "source": [
    "# Exercise 9\n"
   ]
  },
  {
   "cell_type": "markdown",
   "id": "5434c2ab",
   "metadata": {},
   "source": [
    "\"\"\"\n",
    "# CAPS LOCK DAY is over!\n",
    "\n",
    "## Task\n",
    "October 22nd is CAPS LOCK DAY. Apart from that day, every sentence should be lowercase, so write a function to normalize a sentence.\n",
    "\n",
    "Create a function that takes a string. If the string is all uppercase characters, convert it to lowercase and add an exclamation mark at the end. Each string is a normalized sentence and should start with an uppercase character.\n",
    "\n",
    "## Input/Output\n",
    "```\n",
    "normalize(\"CAPS LOCK DAY IS OVER\")                -->   \"Caps lock day is over!\"  \n",
    "normalize(\"Today is not caps lock day.\")          -->   \"Today is not caps lock day.\"  \n",
    "normalize(\"Let us stay calm, no need to panic.\")  -->   \"Let us stay calm, no need to panic.\"  \n",
    "```\n"
   ]
  },
  {
   "cell_type": "code",
   "execution_count": 71,
   "id": "c75537b6",
   "metadata": {},
   "outputs": [
    {
     "data": {
      "text/plain": [
       "'Caps lock day is over'"
      ]
     },
     "execution_count": 71,
     "metadata": {},
     "output_type": "execute_result"
    }
   ],
   "source": [
    "string_oct= \"CAPS LOCK DAY IS OVER\"\n",
    "string_oct.capitalize()"
   ]
  },
  {
   "cell_type": "code",
   "execution_count": 72,
   "id": "92505b9c",
   "metadata": {},
   "outputs": [
    {
     "data": {
      "text/plain": [
       "'Today is not caps lock day.'"
      ]
     },
     "execution_count": 72,
     "metadata": {},
     "output_type": "execute_result"
    }
   ],
   "source": [
    "string2= \"Today is not caps lock day.\"\n",
    "string2.capitalize()"
   ]
  },
  {
   "cell_type": "code",
   "execution_count": 73,
   "id": "92d21ffe",
   "metadata": {},
   "outputs": [
    {
     "data": {
      "text/plain": [
       "'Let us stay calm, no need to panic.'"
      ]
     },
     "execution_count": 73,
     "metadata": {},
     "output_type": "execute_result"
    }
   ],
   "source": [
    "string3= \"Let us stay calm, no need to panic.\"\n",
    "string3.capitalize()"
   ]
  },
  {
   "cell_type": "code",
   "execution_count": 74,
   "id": "36c247e5",
   "metadata": {},
   "outputs": [],
   "source": [
    "#print( 'Z'.isupper())\n",
    "#print( 'u'.isupper())"
   ]
  },
  {
   "cell_type": "code",
   "execution_count": 75,
   "id": "5ded427a",
   "metadata": {},
   "outputs": [
    {
     "name": "stdout",
     "output_type": "stream",
     "text": [
      "Caps lock day is over!\n",
      "Let us stay calm, no need to panic.\n",
      "Today is not caps lock day.\n"
     ]
    }
   ],
   "source": [
    "string_oct={\"CAPS LOCK DAY IS OVER\",\"Today is not caps lock day.\", \"Let us stay calm, no need to panic.\"}\n",
    "\n",
    "\n",
    "def Oct_str(word):\n",
    "    if word.isupper():\n",
    "        print(f\"{word.capitalize()}!\")\n",
    "    else:\n",
    "        print(f\"{word.capitalize()}\")\n",
    "              \n",
    "              \n",
    "for each_word in string_oct:\n",
    "              Oct_str(each_word)\n",
    "              "
   ]
  },
  {
   "cell_type": "code",
   "execution_count": null,
   "id": "7f2a2768",
   "metadata": {},
   "outputs": [],
   "source": []
  },
  {
   "cell_type": "markdown",
   "id": "7ebcf0f0",
   "metadata": {},
   "source": [
    "# Exercise 10"
   ]
  },
  {
   "cell_type": "code",
   "execution_count": 76,
   "id": "9543f3ea",
   "metadata": {
    "scrolled": true
   },
   "outputs": [
    {
     "name": "stdout",
     "output_type": "stream",
     "text": [
      "bananas, apples, milk\n"
     ]
    }
   ],
   "source": [
    "article =\"bananas\", \"apples\", \"milk\" \n",
    "\n",
    "print(\", \".join(article))\n"
   ]
  },
  {
   "cell_type": "code",
   "execution_count": null,
   "id": "bd4905ce",
   "metadata": {},
   "outputs": [],
   "source": []
  },
  {
   "cell_type": "markdown",
   "id": "f8efe422",
   "metadata": {},
   "source": [
    "# Exercise 11"
   ]
  },
  {
   "cell_type": "markdown",
   "id": "a6998776",
   "metadata": {},
   "source": [
    " replace() in python\n",
    "\n",
    "## Overview:\n",
    "\n",
    "The replace() method replaces each substring of a string that matches the given string.\n",
    "\n",
    "## Task\n",
    "\n",
    "Write a program that replaces the standalone \"dog\" in the following sentence with \"cat\".\n",
    "Use f-string when printing the output.\n",
    "\n",
    "## Input/Output\n",
    "```\n",
    "\"A dogmatic dog buys dogecoin to become rich and buy hotdogs every day.\"  -->  \"Output: A dogmatic cat buys dogecoin to become rich and buy hotdogs every day.\"\n",
    "```\n"
   ]
  },
  {
   "cell_type": "code",
   "execution_count": 107,
   "id": "ff3e6bae",
   "metadata": {},
   "outputs": [
    {
     "name": "stdout",
     "output_type": "stream",
     "text": [
      " A dogmatic cat buys dogecoin to become rich and buy hotdogs every day. \n"
     ]
    }
   ],
   "source": [
    "new_word =\" \"\n",
    "word= \"A dogmatic dog buys dogecoin to become rich and buy hotdogs every day.\" \n",
    "for each_element in word.split():\n",
    "    if each_element=='dog':\n",
    "        each_element=\"cat\"\n",
    "    new_word +=each_element+\" \" \n",
    "    \n",
    "print(new_word)\n",
    " "
   ]
  },
  {
   "cell_type": "code",
   "execution_count": null,
   "id": "a57930dc",
   "metadata": {},
   "outputs": [],
   "source": []
  },
  {
   "cell_type": "code",
   "execution_count": null,
   "id": "dfae215a",
   "metadata": {},
   "outputs": [],
   "source": []
  }
 ],
 "metadata": {
  "kernelspec": {
   "display_name": "Python 3 (ipykernel)",
   "language": "python",
   "name": "python3"
  },
  "language_info": {
   "codemirror_mode": {
    "name": "ipython",
    "version": 3
   },
   "file_extension": ".py",
   "mimetype": "text/x-python",
   "name": "python",
   "nbconvert_exporter": "python",
   "pygments_lexer": "ipython3",
   "version": "3.8.10"
  }
 },
 "nbformat": 4,
 "nbformat_minor": 5
}
