{
 "cells": [
  {
   "cell_type": "markdown",
   "id": "c1776a3a",
   "metadata": {},
   "source": [
    "# Exercise 5"
   ]
  },
  {
   "cell_type": "markdown",
   "id": "8df90739",
   "metadata": {},
   "source": [
    "# Functioninator 8000\n",
    "## Task\n",
    "Create a function that takes a single word string and does the following:\n",
    "\n",
    "* Concatenates {inator} to the {end if the word ends with a consonant} otherwise, concatenate -inator instead.\n",
    "\n",
    "* Adds the word length of the original word to the end, supplied with '000'.\n",
    "\n",
    "## Input / Output\n",
    "```\n",
    "inatorInator(\"Shrink\")     ➞  \"Shrinkinator 6000\"\n",
    "inatorInator(\"Doom\")       ➞  \"Doominator 4000\"\n",
    "inatorInator(\"EvilClone\")  ➞  \"EvilClone-inator 9000\"\n",
    "```\n"
   ]
  },
  {
   "cell_type": "code",
   "execution_count": 37,
   "id": "3d180b74",
   "metadata": {},
   "outputs": [],
   "source": [
    "vowels = \"aeiou\"\n",
    "Vowels= vowels.upper()\n",
    "\n",
    "consonant = \"bcdfghjklmnpqrstvwxyz\"\n",
    "Consonant = consonant.upper()\n",
    "    \n",
    "def func_Contcatene (word):\n",
    "    length_w= len(word)\n",
    "    if word[-1] in consonant or word[-1] in Consonant:\n",
    "        A = f\"{word}inator {length_w}000\" \n",
    "        return  A\n",
    "    elif word[-1] in vowels or word[-1] in Vowels:\n",
    "        B = f\"{word}-inator {length_w}000\"\n",
    "        return  B\n",
    "        "
   ]
  },
  {
   "cell_type": "code",
   "execution_count": 38,
   "id": "3bb80622",
   "metadata": {},
   "outputs": [
    {
     "data": {
      "text/plain": [
       "'Shrinkinator 6000'"
      ]
     },
     "execution_count": 38,
     "metadata": {},
     "output_type": "execute_result"
    }
   ],
   "source": [
    "\n",
    "func_Contcatene (\"Shrink\")"
   ]
  },
  {
   "cell_type": "code",
   "execution_count": 39,
   "id": "2cb1c5a1",
   "metadata": {},
   "outputs": [
    {
     "data": {
      "text/plain": [
       "'Doominator 4000'"
      ]
     },
     "execution_count": 39,
     "metadata": {},
     "output_type": "execute_result"
    }
   ],
   "source": [
    "func_Contcatene (\"Doom\")"
   ]
  },
  {
   "cell_type": "code",
   "execution_count": 43,
   "id": "3c8758b6",
   "metadata": {},
   "outputs": [
    {
     "data": {
      "text/plain": [
       "'EvilClone-inator 9000'"
      ]
     },
     "execution_count": 43,
     "metadata": {},
     "output_type": "execute_result"
    }
   ],
   "source": [
    "func_Contcatene (\"EvilClone\")"
   ]
  },
  {
   "cell_type": "code",
   "execution_count": null,
   "id": "97e9c6da",
   "metadata": {},
   "outputs": [],
   "source": []
  },
  {
   "cell_type": "code",
   "execution_count": 44,
   "id": "da8c578a",
   "metadata": {},
   "outputs": [],
   "source": [
    "#vowels1 = 'aeiouq'\n",
    "#vowels = list(vowels1)\n",
    "#vowels"
   ]
  },
  {
   "cell_type": "code",
   "execution_count": 45,
   "id": "60f17fb0",
   "metadata": {},
   "outputs": [],
   "source": [
    "#tt =\"s\"\n",
    "#if tt in vowels:\n",
    "#    print(\"yes\")\n",
    "#:\n",
    "#   print(\"No\")"
   ]
  },
  {
   "cell_type": "code",
   "execution_count": 46,
   "id": "c0af652b",
   "metadata": {},
   "outputs": [],
   "source": [
    "given_string = \"\"\"One morning, when Gregor Samsa woke from troubled dreams,\n",
    "he found himself transformed in his bed into a horrible vermin.\n",
    " He lay on his armour-like back, and if he lifted his head a\n",
    "little he could see his brown belly, slightly domed and divided by\n",
    "arches into stiff sections. The bedding was hardly able to cover\n",
    "it and seemed ready to slide off any moment. His many legs, pitifully\n",
    "thin compared with the size of the rest of him, waved about helplessly\n",
    "as he looked.\"\"\"\n",
    "#word_split = given_string.split()\n",
    "#print(word_split)\n",
    "\n"
   ]
  },
  {
   "cell_type": "code",
   "execution_count": 47,
   "id": "9f027725",
   "metadata": {},
   "outputs": [
    {
     "data": {
      "text/plain": [
       "'emrig hnGeo as oefo rulddem,h on isl rnfre nhsbdi'"
      ]
     },
     "execution_count": 47,
     "metadata": {},
     "output_type": "execute_result"
    }
   ],
   "source": [
    "given_string[2:100:2]"
   ]
  },
  {
   "cell_type": "code",
   "execution_count": 48,
   "id": "314668cd",
   "metadata": {
    "scrolled": true
   },
   "outputs": [
    {
     "name": "stdout",
     "output_type": "stream",
     "text": [
      "14   h\n",
      "2   e\n",
      "46   l\n",
      "46   l\n",
      "5   o\n",
      "hello\n",
      "18   G\n",
      "6   r\n",
      "2   e\n",
      "10   g\n",
      "5   o\n",
      "6   r\n",
      "Gregor\n",
      "hello   Gregor\n"
     ]
    }
   ],
   "source": [
    "greet =\"hello\"\n",
    "name = \"Gregor\"\n",
    "ng= len(greet)\n",
    "nn= len(name)\n",
    "ns= len(given_string)\n",
    "\n",
    "greet_new =\"\"\n",
    "name_new= \"\"\n",
    "num1 =\"\"\n",
    "for char1 in greet:\n",
    "    for char2 in given_string:\n",
    "        if char2==char1:\n",
    "            greet_new =   greet_new + char2\n",
    "            num = given_string.index(char2) \n",
    "    num1 =  str(num1)+ given_string[num] \n",
    "    print(num, \" \", given_string[num] )\n",
    "#''.join([j for i,j in enumerate(greet_new) if j not in greet_new[:i]])\n",
    "#print(greet_new)\n",
    "print(num1)\n",
    "\n",
    "\n",
    "\n",
    "numw =\"\"\n",
    "for char1 in name:\n",
    "    for char2 in given_string:\n",
    "        if char2==char1:\n",
    "            name_new =   name_new + char2\n",
    "            numn = given_string.index(char2) \n",
    "    numw =  str(numw)+ given_string[numn] \n",
    "    print(numn, \" \", given_string[numn] )\n",
    "#''.join([j for i,j in enumerate(greet_new) if j not in greet_new[:i]])\n",
    "#print(greet_new)\n",
    "print(numw)\n",
    "\n",
    "\n",
    "\n",
    "print(num1 , ' ',  numw)"
   ]
  },
  {
   "cell_type": "code",
   "execution_count": 49,
   "id": "968c8e4c",
   "metadata": {},
   "outputs": [
    {
     "name": "stdout",
     "output_type": "stream",
     "text": [
      "14   h\n",
      "2   e\n",
      "46   l\n",
      "46   l\n",
      "5   o\n",
      "\n",
      "18   G\n",
      "6   r\n",
      "2   e\n",
      "10   g\n",
      "5   o\n",
      "6   r\n",
      "hello Gregor\n"
     ]
    }
   ],
   "source": [
    "ns= len(given_string)\n",
    "\n",
    "word1= \"hello\"\n",
    "word2= \"Gregor\"\n",
    "\n",
    "\n",
    "def select_word(word,given_string):\n",
    "    greet =word\n",
    "    ng= len(greet)\n",
    "    greet_new =\"\"\n",
    "    num1 =\"\"\n",
    "    for char1 in greet:\n",
    "        for char2 in given_string:\n",
    "            if char2==char1:\n",
    "                greet_new =   greet_new + char2\n",
    "                num = given_string.index(char2) \n",
    "        num1 =  str(num1)+ given_string[num] \n",
    "        print(num, \" \", given_string[num] )  \n",
    "#    print(num1)\n",
    "    return num1\n",
    "  \n",
    "\n",
    "\n",
    "string1 = select_word(word1,given_string)\n",
    "print()\n",
    "string2 = select_word(word2,given_string)\n",
    "print(string1 + \" \" + string2)\n"
   ]
  },
  {
   "cell_type": "code",
   "execution_count": 50,
   "id": "14b4a145",
   "metadata": {},
   "outputs": [
    {
     "data": {
      "text/plain": [
       "('G', 'r')"
      ]
     },
     "execution_count": 50,
     "metadata": {},
     "output_type": "execute_result"
    }
   ],
   "source": [
    " \n",
    "given_string[18],given_string[6]  #...."
   ]
  },
  {
   "cell_type": "code",
   "execution_count": null,
   "id": "0e683041",
   "metadata": {},
   "outputs": [],
   "source": []
  },
  {
   "cell_type": "code",
   "execution_count": null,
   "id": "659ffdb6",
   "metadata": {},
   "outputs": [],
   "source": []
  },
  {
   "cell_type": "code",
   "execution_count": 51,
   "id": "487aafad",
   "metadata": {},
   "outputs": [
    {
     "data": {
      "text/plain": [
       "85"
      ]
     },
     "execution_count": 51,
     "metadata": {},
     "output_type": "execute_result"
    }
   ],
   "source": [
    "len(word_split)"
   ]
  },
  {
   "cell_type": "code",
   "execution_count": 52,
   "id": "f4cbc35e",
   "metadata": {},
   "outputs": [],
   "source": [
    "target_word = \"Hello Gregor\""
   ]
  },
  {
   "cell_type": "code",
   "execution_count": 53,
   "id": "d8a54f54",
   "metadata": {},
   "outputs": [],
   "source": [
    "new_W =\"\"\n",
    "for char in given_string:\n",
    "    if char in target_word:\n",
    "        new_W=new_W +char+\"\"\n",
    "        \n",
    "        #print(new_W)\n",
    "        "
   ]
  },
  {
   "cell_type": "code",
   "execution_count": 54,
   "id": "1df09430",
   "metadata": {},
   "outputs": [
    {
     "data": {
      "text/plain": [
       "5"
      ]
     },
     "execution_count": 54,
     "metadata": {},
     "output_type": "execute_result"
    }
   ],
   "source": [
    "greet =\"hello\"\n",
    "name = \"Gregor\"\n",
    "len(greet)"
   ]
  },
  {
   "cell_type": "code",
   "execution_count": 55,
   "id": "09c198f5",
   "metadata": {},
   "outputs": [
    {
     "data": {
      "text/plain": [
       "['h', 'e', 'l', 'l', 'o']"
      ]
     },
     "execution_count": 55,
     "metadata": {},
     "output_type": "execute_result"
    }
   ],
   "source": [
    "[*list(greet)]"
   ]
  },
  {
   "cell_type": "code",
   "execution_count": null,
   "id": "0cd50e1e",
   "metadata": {},
   "outputs": [],
   "source": []
  },
  {
   "cell_type": "code",
   "execution_count": null,
   "id": "8ae6a6dd",
   "metadata": {},
   "outputs": [],
   "source": []
  }
 ],
 "metadata": {
  "kernelspec": {
   "display_name": "Python 3 (ipykernel)",
   "language": "python",
   "name": "python3"
  },
  "language_info": {
   "codemirror_mode": {
    "name": "ipython",
    "version": 3
   },
   "file_extension": ".py",
   "mimetype": "text/x-python",
   "name": "python",
   "nbconvert_exporter": "python",
   "pygments_lexer": "ipython3",
   "version": "3.8.10"
  }
 },
 "nbformat": 4,
 "nbformat_minor": 5
}
