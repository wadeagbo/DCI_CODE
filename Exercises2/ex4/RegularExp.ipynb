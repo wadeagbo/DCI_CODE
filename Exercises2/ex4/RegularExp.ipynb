{
 "cells": [
  {
   "cell_type": "markdown",
   "id": "f39e24e6",
   "metadata": {},
   "source": [
    "# Regular Expression"
   ]
  },
  {
   "cell_type": "code",
   "execution_count": 18,
   "id": "84ae4202",
   "metadata": {},
   "outputs": [],
   "source": [
    "import re"
   ]
  },
  {
   "cell_type": "code",
   "execution_count": 19,
   "id": "3050e96a",
   "metadata": {},
   "outputs": [],
   "source": [
    "#r\"[], [a-f]"
   ]
  },
  {
   "cell_type": "code",
   "execution_count": 1,
   "id": "0e1e0ea1",
   "metadata": {},
   "outputs": [],
   "source": [
    "text = \"\"\"Hey Mr. Bezos,\n",
    "I hope its okay I message you in this unsecure email program. Sry about that!\n",
    "Here the list of extremely confidential clients and close coworkers of you who actually visited Epsteins island. Oh boy how I hope no random Python Students extract this sensitive list with some kind of regular expressions! \n",
    "therealjeffbezos@bossnet.com\n",
    "markzuckerbergtheman@facebookormetaidkmail.com\n",
    "donaldtothatrump@getthatcapitolmail.com\n",
    "2pacaintdeadandnowchillinonwrongislands@mail.com\n",
    "Let me give you for some reason also your most important passwords to continue running amazon! Sorry Im new at this job.\n",
    "epsteindidntkillhimself14141\n",
    "ThIs1s4ctua11YaG00dPa$$w0rD\n",
    "123456seven\n",
    "password\n",
    "Kind regards,\n",
    "the soon to be fired secretary Tanisha\"\"\""
   ]
  },
  {
   "cell_type": "code",
   "execution_count": 21,
   "id": "f0e10efd",
   "metadata": {},
   "outputs": [
    {
     "data": {
      "text/plain": [
       "734"
      ]
     },
     "execution_count": 21,
     "metadata": {},
     "output_type": "execute_result"
    }
   ],
   "source": [
    "len(text)"
   ]
  },
  {
   "cell_type": "code",
   "execution_count": 22,
   "id": "6dbc28fd",
   "metadata": {},
   "outputs": [
    {
     "data": {
      "text/plain": [
       "'mail.com'"
      ]
     },
     "execution_count": 22,
     "metadata": {},
     "output_type": "execute_result"
    }
   ],
   "source": [
    "text[385:393]"
   ]
  },
  {
   "cell_type": "code",
   "execution_count": 23,
   "id": "7f116e0f",
   "metadata": {},
   "outputs": [],
   "source": [
    "#match = re.search(r'[\\w.+-]+@[\\w-]+\\.[\\w.-]+', text)"
   ]
  },
  {
   "cell_type": "code",
   "execution_count": 24,
   "id": "bfd8dce8",
   "metadata": {},
   "outputs": [],
   "source": [
    "match1 = re.search(r'[A-Za-z]{3,}@[A-Za-z]{3,}.[a-z]{3,}', text)"
   ]
  },
  {
   "cell_type": "code",
   "execution_count": 25,
   "id": "42e763dd",
   "metadata": {},
   "outputs": [
    {
     "data": {
      "text/plain": [
       "<re.Match object; span=(318, 346), match='therealjeffbezos@bossnet.com'>"
      ]
     },
     "execution_count": 25,
     "metadata": {},
     "output_type": "execute_result"
    }
   ],
   "source": [
    "match1"
   ]
  },
  {
   "cell_type": "code",
   "execution_count": 30,
   "id": "b709257b",
   "metadata": {},
   "outputs": [],
   "source": [
    "match2= re.search(r'[A-Za-z]{3,}@[A-Za-z]{3,}.[a-z]{3,}', text)\n"
   ]
  },
  {
   "cell_type": "code",
   "execution_count": 31,
   "id": "f4222270",
   "metadata": {},
   "outputs": [
    {
     "data": {
      "text/plain": [
       "<re.Match object; span=(318, 346), match='therealjeffbezos@bossnet.com'>"
      ]
     },
     "execution_count": 31,
     "metadata": {},
     "output_type": "execute_result"
    }
   ],
   "source": [
    "match2"
   ]
  },
  {
   "cell_type": "code",
   "execution_count": 33,
   "id": "aefd4cf4",
   "metadata": {},
   "outputs": [
    {
     "data": {
      "text/plain": [
       "<re.Match object; span=(318, 344), match='therealjeffbezos@bossnet.c'>"
      ]
     },
     "execution_count": 33,
     "metadata": {},
     "output_type": "execute_result"
    }
   ],
   "source": [
    "match2= re.search(r'[A-Za-z]+@[A-Za-z0-0]+.[a-z]', text)\n",
    "match2"
   ]
  },
  {
   "cell_type": "code",
   "execution_count": null,
   "id": "9e311f6d",
   "metadata": {},
   "outputs": [],
   "source": [
    "RegularExp.ipynb"
   ]
  },
  {
   "cell_type": "code",
   "execution_count": 34,
   "id": "e952a5bc",
   "metadata": {},
   "outputs": [
    {
     "data": {
      "text/plain": [
       "<re.Match object; span=(604, 633), match='epsteindidntkillhimself14141\\n'>"
      ]
     },
     "execution_count": 34,
     "metadata": {},
     "output_type": "execute_result"
    }
   ],
   "source": [
    "re.search(r'(?=.*?[a-z])(?=.*?[\\W])[\\d$[a-zA-Z0-9]{8,}\\n', text)"
   ]
  },
  {
   "cell_type": "code",
   "execution_count": null,
   "id": "b782ef79",
   "metadata": {},
   "outputs": [],
   "source": [
    "re.search(r'[]', text)"
   ]
  },
  {
   "cell_type": "code",
   "execution_count": null,
   "id": "d466abef",
   "metadata": {},
   "outputs": [],
   "source": []
  }
 ],
 "metadata": {
  "kernelspec": {
   "display_name": "Python 3 (ipykernel)",
   "language": "python",
   "name": "python3"
  },
  "language_info": {
   "codemirror_mode": {
    "name": "ipython",
    "version": 3
   },
   "file_extension": ".py",
   "mimetype": "text/x-python",
   "name": "python",
   "nbconvert_exporter": "python",
   "pygments_lexer": "ipython3",
   "version": "3.8.10"
  }
 },
 "nbformat": 4,
 "nbformat_minor": 5
}
