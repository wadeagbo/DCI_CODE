{
 "cells": [
  {
   "cell_type": "markdown",
   "id": "a13c5a8f",
   "metadata": {},
   "source": [
    "# Exercise 7"
   ]
  },
  {
   "cell_type": "markdown",
   "id": "22120349",
   "metadata": {},
   "source": [
    "# upper / lower in Python\n",
    "\n",
    "## Overview:\n",
    "\n",
    "The python string upper() method converts all characters of the string into uppercase.\n",
    "The python string lower() method converts all characters of the string into lowercase.\n",
    "\n",
    "## Task \n",
    "* Write a Python program to convert all the characters in a string to uppercase.\n",
    "* Write a Python program to convert all the characters in a string to lowercase.\n",
    "\n",
    "## Input / Output\n",
    "```\n",
    "Original String: The Quick BroWnFoX jumps over the laZy Dog!\n",
    "String in uppercase: THE QUICK BROWNFOX JUMPS OVER THE LAZY DOG!\n",
    "String in lowercase: the quick brown fox!\n",
    "```\n"
   ]
  },
  {
   "cell_type": "code",
   "execution_count": 17,
   "id": "aed2e177",
   "metadata": {},
   "outputs": [
    {
     "name": "stdout",
     "output_type": "stream",
     "text": [
      "Original String: The Quick BroWnFoX jumps over the laZy Dog!\n",
      "String in uppercase: THE QUICK BROWNFOX JUMPS OVER THE LAZY DOG!\n",
      "String in lowercase: the quick brownfox !\n"
     ]
    }
   ],
   "source": [
    "OrStr= \"The Quick BroWnFoX jumps over the laZy Dog!\"\n",
    "print(\"Original String:\" ,OrStr)\n",
    "print(\"String in uppercase:\" ,OrStr.upper())\n",
    "print(\"String in lowercase:\" ,OrStr.lower()[0:18],OrStr.lower()[-1])\n"
   ]
  },
  {
   "cell_type": "code",
   "execution_count": null,
   "id": "4e09ef89",
   "metadata": {},
   "outputs": [],
   "source": []
  }
 ],
 "metadata": {
  "kernelspec": {
   "display_name": "Python 3 (ipykernel)",
   "language": "python",
   "name": "python3"
  },
  "language_info": {
   "codemirror_mode": {
    "name": "ipython",
    "version": 3
   },
   "file_extension": ".py",
   "mimetype": "text/x-python",
   "name": "python",
   "nbconvert_exporter": "python",
   "pygments_lexer": "ipython3",
   "version": "3.8.10"
  }
 },
 "nbformat": 4,
 "nbformat_minor": 5
}
