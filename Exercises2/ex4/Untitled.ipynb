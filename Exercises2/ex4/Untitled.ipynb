{
 "cells": [
  {
   "cell_type": "markdown",
   "id": "ead9ec77",
   "metadata": {},
   "source": [
    "# Exersise 4 "
   ]
  },
  {
   "cell_type": "markdown",
   "id": "acf8e252",
   "metadata": {},
   "source": [
    "# length() in Python\n",
    "## Overview:\n",
    "The len() method is used to get the length of a string. The length is equal to the number of Unicode code units in a string.\n",
    "\n",
    "## Task\n",
    "Write a program that detects if a string has an even/odd number of characters and prints \"even\" or \"odd\" accordingly.\n",
    "\n",
    "\n",
    "## Input --> Output\n",
    "```\n",
    "\"hello world\"     -->    \"odd\"\n",
    "\"hello planet\"    -->    \"even\"\n",
    "\"\"                -->    \"even\"\n",
    "```\n"
   ]
  },
  {
   "cell_type": "code",
   "execution_count": 4,
   "id": "024bbf18",
   "metadata": {},
   "outputs": [],
   "source": [
    "string_list = [\"hello world\", \"hello planet\", \"\"]"
   ]
  },
  {
   "cell_type": "code",
   "execution_count": 14,
   "id": "2658d052",
   "metadata": {},
   "outputs": [
    {
     "name": "stdout",
     "output_type": "stream",
     "text": [
      "11 --> odd\n",
      "12 --> even\n",
      "0 --> even\n"
     ]
    }
   ],
   "source": [
    "for word in string_list:\n",
    "    if len(word)%2==0:\n",
    "        print(len(word),\"--> even\")\n",
    "    else:\n",
    "        print(len(word),\"--> odd\")"
   ]
  },
  {
   "cell_type": "code",
   "execution_count": 10,
   "id": "2a816898",
   "metadata": {},
   "outputs": [
    {
     "name": "stdout",
     "output_type": "stream",
     "text": [
      "My experiments with truth\n"
     ]
    }
   ],
   "source": [
    "\n",
    "import random\n",
    "  \n",
    "# list of books is stored in the list -'books'\n",
    "books = ['Mother', 'Midnight Children', 'My experiments with truth']\n",
    "  \n",
    "# An item from the list 'books' is selected\n",
    "# by random.choice()\n",
    "print(random.choice(books))"
   ]
  },
  {
   "cell_type": "code",
   "execution_count": null,
   "id": "d426aae8",
   "metadata": {},
   "outputs": [],
   "source": []
  },
  {
   "cell_type": "code",
   "execution_count": 11,
   "id": "c170fdf6",
   "metadata": {},
   "outputs": [],
   "source": [
    "# Defining list of phrases which will help to build a story\n",
    "Sentence_starter = ['About 100 years ago', ' In the 20 BC', 'Once upon a time']\n",
    "  \n",
    "character = [' there lived a king.',' there was a man named Jack.',\n",
    "             ' there lived a farmer.']\n",
    "  \n",
    "time = [' One day', ' One full-moon night']\n",
    "  \n",
    "story_plot = [' he was passing by', ' he was going for a picnic to ']\n",
    "  \n",
    "place = [' the mountains', ' the garden']\n",
    "  \n",
    "second_character = [' he saw a man', ' he saw a young lady']\n",
    "  \n",
    "age = [' who seemed to be in late 20s', ' who seemed very old and feeble']\n",
    "  \n",
    "work = [' searching something.', ' digging a well on roadside.']"
   ]
  },
  {
   "cell_type": "code",
   "execution_count": 13,
   "id": "6575802b",
   "metadata": {},
   "outputs": [
    {
     "name": "stdout",
     "output_type": "stream",
     "text": [
      "Once upon a time there lived a farmer. One full-moon night he was passing by the garden he saw a man who seemed very old and feeble digging a well on roadside.\n"
     ]
    }
   ],
   "source": [
    "# Selecting an item from each list and concatenating them.\n",
    "print(random.choice(Sentence_starter)+random.choice(character)+\n",
    "      random.choice(time)+random.choice(story_plot)+\n",
    "      random.choice(place)+random.choice(second_character)+\n",
    "      random.choice(age)+random.choice(work))"
   ]
  },
  {
   "cell_type": "code",
   "execution_count": null,
   "id": "9a7a2000",
   "metadata": {},
   "outputs": [],
   "source": []
  },
  {
   "cell_type": "code",
   "execution_count": null,
   "id": "18a12f0b",
   "metadata": {},
   "outputs": [],
   "source": []
  }
 ],
 "metadata": {
  "kernelspec": {
   "display_name": "Python 3 (ipykernel)",
   "language": "python",
   "name": "python3"
  },
  "language_info": {
   "codemirror_mode": {
    "name": "ipython",
    "version": 3
   },
   "file_extension": ".py",
   "mimetype": "text/x-python",
   "name": "python",
   "nbconvert_exporter": "python",
   "pygments_lexer": "ipython3",
   "version": "3.8.10"
  }
 },
 "nbformat": 4,
 "nbformat_minor": 5
}
