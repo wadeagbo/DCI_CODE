{
 "cells": [
  {
   "cell_type": "markdown",
   "id": "8be2bfdc",
   "metadata": {},
   "source": [
    "# Note 25.08.2022"
   ]
  },
  {
   "cell_type": "code",
   "execution_count": 4,
   "id": "a106b05f",
   "metadata": {},
   "outputs": [
    {
     "data": {
      "text/plain": [
       "'python'"
      ]
     },
     "execution_count": 4,
     "metadata": {},
     "output_type": "execute_result"
    }
   ],
   "source": [
    "string =\"---python-----\"\n",
    "string.strip(\"-\")"
   ]
  },
  {
   "cell_type": "code",
   "execution_count": 5,
   "id": "1b56e1b5",
   "metadata": {},
   "outputs": [
    {
     "data": {
      "text/plain": [
       "'---python-----'"
      ]
     },
     "execution_count": 5,
     "metadata": {},
     "output_type": "execute_result"
    }
   ],
   "source": [
    "string.strip(\"t\")"
   ]
  },
  {
   "cell_type": "markdown",
   "id": "77374315",
   "metadata": {},
   "source": [
    "### strip (removes empty space)  also lstrip and rstrip"
   ]
  },
  {
   "cell_type": "markdown",
   "id": "33cba918",
   "metadata": {},
   "source": [
    "# Concantenation of strings  str1+ str2"
   ]
  },
  {
   "cell_type": "code",
   "execution_count": 7,
   "id": "c814e324",
   "metadata": {},
   "outputs": [],
   "source": [
    "## formatting of strings"
   ]
  },
  {
   "cell_type": "code",
   "execution_count": 8,
   "id": "612bb4d5",
   "metadata": {},
   "outputs": [
    {
     "data": {
      "text/plain": [
       "'something 141 something another something'"
      ]
     },
     "execution_count": 8,
     "metadata": {},
     "output_type": "execute_result"
    }
   ],
   "source": [
    "test = \"something %d something %s\"\n",
    "test %(141, \"another something\")"
   ]
  },
  {
   "cell_type": "code",
   "execution_count": 9,
   "id": "3c57f025",
   "metadata": {},
   "outputs": [
    {
     "data": {
      "text/plain": [
       "'DCI is just awesome man'"
      ]
     },
     "execution_count": 9,
     "metadata": {},
     "output_type": "execute_result"
    }
   ],
   "source": [
    "test = \"DCI is {}\"\n",
    "test.format(\"just awesome man\")"
   ]
  },
  {
   "cell_type": "code",
   "execution_count": 10,
   "id": "fc4d66ea",
   "metadata": {},
   "outputs": [
    {
     "data": {
      "text/plain": [
       "'something cool and something wonderful and something awesome'"
      ]
     },
     "execution_count": 10,
     "metadata": {},
     "output_type": "execute_result"
    }
   ],
   "source": [
    "test = \"something {} and something {} and something {}\"\n",
    "test.format(\"cool\", \"wonderful\", \"awesome\")"
   ]
  },
  {
   "cell_type": "code",
   "execution_count": null,
   "id": "8a189b5b",
   "metadata": {},
   "outputs": [],
   "source": [
    "## pattern str = \"{2}.{1} ({0})\"\n",
    "## str.format(\"Team\", \"Player\", 1)\n",
    "## Result  \"1. Player (Team)\""
   ]
  },
  {
   "cell_type": "code",
   "execution_count": 11,
   "id": "234ca312",
   "metadata": {},
   "outputs": [
    {
     "data": {
      "text/plain": [
       "'apple and peach and pumpkin and carrot'"
      ]
     },
     "execution_count": 11,
     "metadata": {},
     "output_type": "execute_result"
    }
   ],
   "source": [
    "test =  \"{0} and {1} and {3} and {2}\"\n",
    "test.format(\"apple\", \"peach\", \"carrot\", \"pumpkin\")"
   ]
  },
  {
   "cell_type": "code",
   "execution_count": null,
   "id": "8f4b088b",
   "metadata": {},
   "outputs": [],
   "source": [
    "#str = \"{id}\""
   ]
  },
  {
   "cell_type": "code",
   "execution_count": 12,
   "id": "1fe08589",
   "metadata": {},
   "outputs": [
    {
     "data": {
      "text/plain": [
       "'Europe - Germany -The best city berlin'"
      ]
     },
     "execution_count": 12,
     "metadata": {},
     "output_type": "execute_result"
    }
   ],
   "source": [
    "test =\"{Continent} - {country} -{City}\"\n",
    "test.format(Continent = \"Europe\", country=\"Germany\", City=\"The best city berlin\")"
   ]
  },
  {
   "cell_type": "raw",
   "id": "4a74229d",
   "metadata": {},
   "source": [
    "# String formatting\n",
    "# values --- name = \"Player\", id=1\n",
    "# F-string  --- str\n",
    "#Result --\"1. Player\""
   ]
  },
  {
   "cell_type": "code",
   "execution_count": null,
   "id": "9b636365",
   "metadata": {},
   "outputs": [],
   "source": [
    "#name = \"Player\", id=1\""
   ]
  },
  {
   "cell_type": "code",
   "execution_count": 14,
   "id": "3e203e64",
   "metadata": {},
   "outputs": [
    {
     "name": "stdout",
     "output_type": "stream",
     "text": [
      "a1 + b 2\n"
     ]
    }
   ],
   "source": [
    "a= 1\n",
    "b= 2\n",
    "print(f\"a{a} + b {b}\")"
   ]
  },
  {
   "cell_type": "code",
   "execution_count": 31,
   "id": "f42c52a2",
   "metadata": {},
   "outputs": [
    {
     "name": "stdout",
     "output_type": "stream",
     "text": [
      "My name :    10\n",
      "My name :   100\n",
      "My name :  1000\n",
      "My name :     100000\n",
      "My name :      Hello\n"
     ]
    }
   ],
   "source": [
    "a= 10\n",
    "b= 100\n",
    "c= 1000\n",
    "d= 100000\n",
    "ex = \"Hello\"\n",
    "\n",
    "print(f\"My name : {a:5}\")\n",
    "print(f\"My name : {b:5}\")\n",
    "print(f\"My name : {c:5}\")\n",
    "print(f\"My name : {d:>10}\")\n",
    "print(f\"My name : {ex:>10}\" )\n"
   ]
  },
  {
   "cell_type": "code",
   "execution_count": 25,
   "id": "0bdff27f",
   "metadata": {},
   "outputs": [
    {
     "name": "stdout",
     "output_type": "stream",
     "text": [
      "         a\n",
      "        ab\n",
      "       abc\n",
      "      abcd\n"
     ]
    }
   ],
   "source": [
    "#from the link reza pasted:\n",
    "s1 = 'a'\n",
    "s2 = 'ab'\n",
    "s3 = 'abc'\n",
    "s4 = 'abcd'\n",
    "\n",
    "print(f'{s1:>10}')\n",
    "print(f'{s2:>10}')\n",
    "print(f'{s3:>10}')\n",
    "print(f'{s4:>10}') "
   ]
  },
  {
   "cell_type": "code",
   "execution_count": 32,
   "id": "df978d07",
   "metadata": {},
   "outputs": [
    {
     "name": "stdout",
     "output_type": "stream",
     "text": [
      "Peter is 23 years old\n",
      "Peter is 23 years old\n",
      "Peter is 23 years old\n"
     ]
    }
   ],
   "source": [
    "name = 'Peter'\n",
    "age = 23\n",
    "\n",
    "print('%s is %d years old' % (name, age))\n",
    "print('{} is {} years old'.format(name, age))\n",
    "print(f'{name} is {age} years old')"
   ]
  },
  {
   "cell_type": "code",
   "execution_count": null,
   "id": "5b246bf6",
   "metadata": {},
   "outputs": [],
   "source": [
    "#method      name.lower()  a function called the method"
   ]
  },
  {
   "cell_type": "code",
   "execution_count": 33,
   "id": "b74df5e1",
   "metadata": {},
   "outputs": [
    {
     "data": {
      "text/plain": [
       "'Who is actually better? Jesus or Eminnem'"
      ]
     },
     "execution_count": 33,
     "metadata": {},
     "output_type": "execute_result"
    }
   ],
   "source": [
    "name1 = \"Jesus\"\n",
    "name2 = \"Eminnem\"\n",
    "\n",
    "test = f\"Who is actually better? {name1} or {name2}\"\n",
    "test"
   ]
  },
  {
   "cell_type": "code",
   "execution_count": null,
   "id": "447d3545",
   "metadata": {},
   "outputs": [],
   "source": []
  },
  {
   "cell_type": "code",
   "execution_count": 38,
   "id": "30b70f46",
   "metadata": {},
   "outputs": [
    {
     "data": {
      "text/plain": [
       "False"
      ]
     },
     "execution_count": 38,
     "metadata": {},
     "output_type": "execute_result"
    }
   ],
   "source": [
    "test =\"abc\"\n",
    "test\n",
    "test.endswith(\"b\")"
   ]
  },
  {
   "cell_type": "code",
   "execution_count": 39,
   "id": "3201057f",
   "metadata": {},
   "outputs": [
    {
     "data": {
      "text/plain": [
       "True"
      ]
     },
     "execution_count": 39,
     "metadata": {},
     "output_type": "execute_result"
    }
   ],
   "source": [
    "test.endswith(\"c\")"
   ]
  },
  {
   "cell_type": "code",
   "execution_count": null,
   "id": "cdfd6740",
   "metadata": {},
   "outputs": [],
   "source": []
  }
 ],
 "metadata": {
  "kernelspec": {
   "display_name": "Python 3 (ipykernel)",
   "language": "python",
   "name": "python3"
  },
  "language_info": {
   "codemirror_mode": {
    "name": "ipython",
    "version": 3
   },
   "file_extension": ".py",
   "mimetype": "text/x-python",
   "name": "python",
   "nbconvert_exporter": "python",
   "pygments_lexer": "ipython3",
   "version": "3.8.10"
  }
 },
 "nbformat": 4,
 "nbformat_minor": 5
}
