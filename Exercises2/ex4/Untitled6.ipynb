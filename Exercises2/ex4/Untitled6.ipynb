{
 "cells": [
  {
   "cell_type": "markdown",
   "id": "c8cef520",
   "metadata": {},
   "source": [
    "\"\"\"\n",
    "# substring in Python\n",
    "\n",
    "## Overview:\n",
    "\n",
    "The python string[start: end: step] method returns a part of the string.\n",
    "We pass start index and end index number position where both start and end index is exclusive.\n",
    "\n",
    "## Task\n",
    "\n",
    "### \"Without own words\"\n",
    "Please write a program that prints out \"Hello Gregor\". The challenge is that you are not allowed to create own chars & strings. You are only allowed to use elements of a given string provided in the solution.py file.\n",
    "\n",
    "\n",
    "### Output\n",
    "```\n",
    "\"Hello Gregor\"\n",
    "\n",
    "\"\"\"\n"
   ]
  },
  {
   "cell_type": "code",
   "execution_count": 2,
   "id": "e96dcf2c",
   "metadata": {},
   "outputs": [],
   "source": [
    "given_string = \"\"\"One morning, when Gregor Samsa woke from troubled dreams,\n",
    "he found himself transformed in his bed into a horrible vermin.\n",
    " He lay on his armour-like back, and if he lifted his head a\n",
    "little he could see his brown belly, slightly domed and divided by\n",
    "arches into stiff sections. The bedding was hardly able to cover\n",
    "it and seemed ready to slide off any moment. His many legs, pitifully\n",
    "thin compared with the size of the rest of him, waved about helplessly\n",
    "as he looked.\"\"\"\n",
    " "
   ]
  },
  {
   "cell_type": "code",
   "execution_count": 12,
   "id": "bd7ae9dc",
   "metadata": {},
   "outputs": [
    {
     "name": "stdout",
     "output_type": "stream",
     "text": [
      "   14      h\n",
      "    2      e\n",
      "   46      l\n",
      "   46      l\n",
      "    5      o\n",
      "\n",
      "   18      G\n",
      "    6      r\n",
      "    2      e\n",
      "   10      g\n",
      "    5      o\n",
      "    6      r\n",
      "hello Gregor\n"
     ]
    }
   ],
   "source": [
    "ns= len(given_string)\n",
    "\n",
    "word1= \"hello\"\n",
    "word2= \"Gregor\"\n",
    "word3 = \"waheed\"\n",
    "\n",
    "def select_word(word,given_string):\n",
    "    greet =word\n",
    "    ng= len(greet)\n",
    "    greet_new =\"\"\n",
    "    num1 =\"\"\n",
    "    for char1 in greet:\n",
    "        for char2 in given_string:\n",
    "            if char2==char1:\n",
    "                greet_new +=char2\n",
    "                num = given_string.index(char2)\n",
    "        num1  += given_string[num]\n",
    "        print(f\"{num :5}  {given_string[num] :>5}\" )\n",
    "    return num1\n",
    "\n",
    "\n",
    "\n",
    "string1 = select_word(word1,given_string)\n",
    "print()\n",
    "string2 = select_word(word2,given_string)\n",
    "print(string1 + \" \" + string2)\n"
   ]
  },
  {
   "cell_type": "code",
   "execution_count": null,
   "id": "7b7e2cda",
   "metadata": {},
   "outputs": [],
   "source": []
  }
 ],
 "metadata": {
  "kernelspec": {
   "display_name": "Python 3 (ipykernel)",
   "language": "python",
   "name": "python3"
  },
  "language_info": {
   "codemirror_mode": {
    "name": "ipython",
    "version": 3
   },
   "file_extension": ".py",
   "mimetype": "text/x-python",
   "name": "python",
   "nbconvert_exporter": "python",
   "pygments_lexer": "ipython3",
   "version": "3.8.10"
  }
 },
 "nbformat": 4,
 "nbformat_minor": 5
}
