{
 "cells": [
  {
   "cell_type": "markdown",
   "id": "8c35b72e",
   "metadata": {},
   "source": [
    "# Exercise 5"
   ]
  },
  {
   "cell_type": "code",
   "execution_count": 10,
   "id": "e4ad24da",
   "metadata": {},
   "outputs": [
    {
     "name": "stdout",
     "output_type": "stream",
     "text": [
      "Shrinkinator 6000\n",
      "Doominator 4000\n",
      "EvilClone-inator 9000\n"
     ]
    }
   ],
   "source": [
    "vowels = \"aeiou\"\n",
    "consonant = \"bcdfghjklmnpqrstvwxyz\"\n",
    "\n",
    "def func_Contcatene (word):\n",
    "    length_w= len(word)\n",
    "    if word[-1] in consonant or word[-1] in consonant.upper():\n",
    "         print(f\"{word}inator {length_w}000\")\n",
    "    elif word[-1] in vowels or word[-1] in vowels.upper():\n",
    "        print(f\"{word}-inator {length_w}000\")\n",
    "\n",
    "\n",
    "func_Contcatene(\"Shrink\")\n",
    "func_Contcatene(\"Doom\")\n",
    "func_Contcatene(\"EvilClone\")\n"
   ]
  },
  {
   "cell_type": "code",
   "execution_count": 11,
   "id": "b883bf9a",
   "metadata": {},
   "outputs": [],
   "source": [
    "#"
   ]
  },
  {
   "cell_type": "code",
   "execution_count": 9,
   "id": "4d5c7c70",
   "metadata": {},
   "outputs": [
    {
     "name": "stdout",
     "output_type": "stream",
     "text": [
      "Shrinkinator 6000\n",
      "Doominator 4000\n",
      "EvilClone-inator 9000\n"
     ]
    }
   ],
   "source": [
    "vowels = \"aeiou\"\n",
    "consonant = \"bcdfghjklmnpqrstvwxyz\"\n",
    "\n",
    "\n",
    "def func_Contcatene2 (word):\n",
    "    length_w= len(word)\n",
    "    if word[-1] in consonant or word[-1] in consonant.upper():\n",
    "        A_con = f\"{word}inator {length_w}000\"\n",
    "        return A_con\n",
    "    elif word[-1] in vowels or word[-1] in vowels.upper():\n",
    "        A_vow = f\"{word}-inator {length_w}000\"\n",
    "        return A_vow\n",
    "    \n",
    "    \n",
    "print(func_Contcatene2(\"Shrink\"))\n",
    "print(func_Contcatene2(\"Doom\"))\n",
    "print(func_Contcatene2(\"EvilClone\"))\n"
   ]
  },
  {
   "cell_type": "code",
   "execution_count": null,
   "id": "12b1da43",
   "metadata": {},
   "outputs": [],
   "source": []
  }
 ],
 "metadata": {
  "kernelspec": {
   "display_name": "Python 3 (ipykernel)",
   "language": "python",
   "name": "python3"
  },
  "language_info": {
   "codemirror_mode": {
    "name": "ipython",
    "version": 3
   },
   "file_extension": ".py",
   "mimetype": "text/x-python",
   "name": "python",
   "nbconvert_exporter": "python",
   "pygments_lexer": "ipython3",
   "version": "3.8.10"
  }
 },
 "nbformat": 4,
 "nbformat_minor": 5
}
