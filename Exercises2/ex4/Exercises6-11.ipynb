{
 "cells": [
  {
   "cell_type": "markdown",
   "id": "2cf64f9c",
   "metadata": {},
   "source": [
    "# Task 6"
   ]
  },
  {
   "cell_type": "markdown",
   "id": "65f67446",
   "metadata": {},
   "source": [
    "\"\"\"\n",
    "# substring in Python\n",
    "\n",
    "## Overview:\n",
    "\n",
    "The python string[start: end: step] method returns a part of the string.\n",
    "We pass start index and end index number position where both start and end index is exclusive.\n",
    "\n",
    "## Task\n",
    "\n",
    "### \"Without own words\"\n",
    "Please write a program that prints out \"Hello Gregor\". The challenge is that you are not allowed to create own chars & strings. You are only allowed to use elements of a given string provided in the solution.py file.\n",
    "\n",
    "\n",
    "### Output\n",
    "```\n",
    "\"Hello Gregor\"\n",
    "\n",
    "\"\"\"\n"
   ]
  },
  {
   "cell_type": "code",
   "execution_count": 2,
   "id": "d49229fa",
   "metadata": {
    "scrolled": false
   },
   "outputs": [
    {
     "name": "stdout",
     "output_type": "stream",
     "text": [
      " input search word 1 in the string:   Hello\n",
      " input search word 2 in the string:   Gregor\n",
      "\n",
      "         H     [123] \n",
      "         e     [ 2] \n",
      "         l     [46] \n",
      "         l     [46] \n",
      "         o     [ 5] \n",
      "\n",
      "         G     [18] \n",
      "         r     [ 6] \n",
      "         e     [ 2] \n",
      "         g     [10] \n",
      "         o     [ 5] \n",
      "         r     [ 6] \n",
      "\n",
      "        Hello Gregor \n",
      "\n"
     ]
    }
   ],
   "source": [
    "given_string = \"\"\"One morning, when Gregor Samsa woke from troubled dreams,\n",
    "he found himself transformed in his bed into a horrible vermin.\n",
    " He lay on his armour-like back, and if he lifted his head a\n",
    "little he could see his brown belly, slightly domed and divided by\n",
    "arches into stiff sections. The bedding was hardly able to cover\n",
    "it and seemed ready to slide off any moment. His many legs, pitifully\n",
    "thin compared with the size of the rest of him, waved about helplessly\n",
    "as he looked.\"\"\"\n",
    "\n",
    "ns= len(given_string)\n",
    "\n",
    "\n",
    "    \n",
    "def select_word(word,given_string):\n",
    "    greet =word\n",
    "    ng= len(greet)\n",
    "    greet_new =\"\"\n",
    "    num1 =\"\"\n",
    "    for char1 in greet:\n",
    "        for char2 in given_string:\n",
    "            if char2==char1:\n",
    "                greet_new +=char2\n",
    "                num = given_string.index(char2)\n",
    "        num1  += given_string[num]\n",
    "        print(f\"{given_string[num] :>10}     [{num :2}] \" )\n",
    "    return num1\n",
    "\n",
    "\n",
    "word1 = input(\" input search word 1 in the string:   \")\n",
    "word2 = input(\" input search word 2 in the string:   \")\n",
    "print()\n",
    "string1 = select_word(word1,given_string)\n",
    "print()\n",
    "string2 = select_word(word2,given_string)\n",
    "print()\n",
    "print(f\"        {string1} {string2} \")\n",
    "print()\n"
   ]
  },
  {
   "cell_type": "markdown",
   "id": "36822839",
   "metadata": {},
   "source": [
    "# Exercise 7"
   ]
  },
  {
   "cell_type": "markdown",
   "id": "df6eebbe",
   "metadata": {},
   "source": [
    "# upper / lower in Python\n",
    "\n",
    "## Overview:\n",
    "\n",
    "The python string upper() method converts all characters of the string into uppercase.\n",
    "The python string lower() method converts all characters of the string into lowercase.\n",
    "\n",
    "## Task \n",
    "* Write a Python program to convert all the characters in a string to uppercase.\n",
    "* Write a Python program to convert all the characters in a string to lowercase.\n",
    "\n",
    "## Input / Output\n",
    "```\n",
    "Original String: The Quick BroWnFoX jumps over the laZy Dog!\n",
    "String in uppercase: THE QUICK BROWNFOX JUMPS OVER THE LAZY DOG!\n",
    "String in lowercase: the quick brown fox!\n",
    "```\n"
   ]
  },
  {
   "cell_type": "code",
   "execution_count": 4,
   "id": "b2ce5a21",
   "metadata": {},
   "outputs": [
    {
     "name": "stdout",
     "output_type": "stream",
     "text": [
      "Original String: The Quick BroWnFoX jumps over the laZy Dog!\n",
      "String in uppercase: THE QUICK BROWNFOX JUMPS OVER THE LAZY DOG!\n",
      "String in lowercase: the quick brownfox !\n"
     ]
    }
   ],
   "source": [
    "OrStr= \"The Quick BroWnFoX jumps over the laZy Dog!\"\n",
    "print(\"Original String:\" ,OrStr)\n",
    "print(\"String in uppercase:\" ,OrStr.upper())\n",
    "print(\"String in lowercase:\" ,OrStr.lower()[0:18],OrStr.lower()[-1])"
   ]
  },
  {
   "cell_type": "markdown",
   "id": "4bc0164c",
   "metadata": {},
   "source": [
    "# Exercise 8"
   ]
  },
  {
   "cell_type": "markdown",
   "id": "54555029",
   "metadata": {},
   "source": [
    "\"\"\"\n",
    "# find in Python\n",
    "\n",
    "## Task - Finding Nemo\n",
    "\n",
    "You need to find the word \"Nemo\" in a given string and return its position in that string, like this:\n",
    "\n",
    "```\n",
    "I found Nemo at [index]!\n",
    "```\n",
    "\n",
    "If you can't find Nemo, return:\n",
    "\n",
    "```\n",
    "I can't find Nemo :(\"\n",
    "```\n",
    "\n",
    "## Examples:\n",
    "```\n",
    "\"I am finding Nemo !\"  -->    \"I found Nemo at 13!\"  \n",
    "\"Nemo is me\"           -->    \"I found Nemo at 0!\"  \n",
    "\"I Nemo am\"            -->    \"I found Nemo at 2!\"  \n",
    "\"Hello World\"          -->    \"I can't find Nemo :(\"  \n",
    "```\n",
    "\n",
    "\"\"\"\n"
   ]
  },
  {
   "cell_type": "code",
   "execution_count": 6,
   "id": "08014b46",
   "metadata": {},
   "outputs": [
    {
     "ename": "SyntaxError",
     "evalue": "invalid syntax (3182490662.py, line 6)",
     "output_type": "error",
     "traceback": [
      "\u001b[0;36m  Input \u001b[0;32mIn [6]\u001b[0;36m\u001b[0m\n\u001b[0;31m    elif:\u001b[0m\n\u001b[0m        ^\u001b[0m\n\u001b[0;31mSyntaxError\u001b[0m\u001b[0;31m:\u001b[0m invalid syntax\n"
     ]
    }
   ],
   "source": [
    "string_set = [\"I am finding Nemo !\", \"Nemo is me\" , \"I Nemo am\", \"Hello World\"]\n",
    "for eachstr in string_set:\n",
    "    nfind= eachstr.find(\"Nemo\") \n",
    "    if  nfind >=0:\n",
    "        print(f\"I found Nemo at  {nfind}!\")\n",
    "    else:\n",
    "        print(f\"{eachstr}--> \"I can't find Nemo :(\\\"\" \" )"
   ]
  },
  {
   "cell_type": "markdown",
   "id": "218b6f14",
   "metadata": {},
   "source": [
    "# Exercise 9\n"
   ]
  },
  {
   "cell_type": "markdown",
   "id": "449399b9",
   "metadata": {},
   "source": [
    "\"\"\"\n",
    "# CAPS LOCK DAY is over!\n",
    "\n",
    "## Task\n",
    "October 22nd is CAPS LOCK DAY. Apart from that day, every sentence should be lowercase, so write a function to normalize a sentence.\n",
    "\n",
    "Create a function that takes a string. If the string is all uppercase characters, convert it to lowercase and add an exclamation mark at the end. Each string is a normalized sentence and should start with an uppercase character.\n",
    "\n",
    "## Input/Output\n",
    "```\n",
    "normalize(\"CAPS LOCK DAY IS OVER\")                -->   \"Caps lock day is over!\"  \n",
    "normalize(\"Today is not caps lock day.\")          -->   \"Today is not caps lock day.\"  \n",
    "normalize(\"Let us stay calm, no need to panic.\")  -->   \"Let us stay calm, no need to panic.\"  \n",
    "```\n"
   ]
  },
  {
   "cell_type": "code",
   "execution_count": 71,
   "id": "35b59e51",
   "metadata": {},
   "outputs": [
    {
     "data": {
      "text/plain": [
       "'Caps lock day is over'"
      ]
     },
     "execution_count": 71,
     "metadata": {},
     "output_type": "execute_result"
    }
   ],
   "source": [
    "string_oct= \"CAPS LOCK DAY IS OVER\"\n",
    "string_oct.capitalize()"
   ]
  },
  {
   "cell_type": "code",
   "execution_count": 72,
   "id": "15674e86",
   "metadata": {},
   "outputs": [
    {
     "data": {
      "text/plain": [
       "'Today is not caps lock day.'"
      ]
     },
     "execution_count": 72,
     "metadata": {},
     "output_type": "execute_result"
    }
   ],
   "source": [
    "string2= \"Today is not caps lock day.\"\n",
    "string2.capitalize()"
   ]
  },
  {
   "cell_type": "code",
   "execution_count": 73,
   "id": "ec17eddf",
   "metadata": {},
   "outputs": [
    {
     "data": {
      "text/plain": [
       "'Let us stay calm, no need to panic.'"
      ]
     },
     "execution_count": 73,
     "metadata": {},
     "output_type": "execute_result"
    }
   ],
   "source": [
    "string3= \"Let us stay calm, no need to panic.\"\n",
    "string3.capitalize()"
   ]
  },
  {
   "cell_type": "code",
   "execution_count": 74,
   "id": "a74e9e1a",
   "metadata": {},
   "outputs": [],
   "source": [
    "#print( 'Z'.isupper())\n",
    "#print( 'u'.isupper())"
   ]
  },
  {
   "cell_type": "code",
   "execution_count": 75,
   "id": "41400b85",
   "metadata": {},
   "outputs": [
    {
     "name": "stdout",
     "output_type": "stream",
     "text": [
      "Caps lock day is over!\n",
      "Let us stay calm, no need to panic.\n",
      "Today is not caps lock day.\n"
     ]
    }
   ],
   "source": [
    "string_oct={\"CAPS LOCK DAY IS OVER\",\"Today is not caps lock day.\", \"Let us stay calm, no need to panic.\"}\n",
    "\n",
    "\n",
    "def Oct_str(word):\n",
    "    if word.isupper():\n",
    "        print(f\"{word.capitalize()}!\")\n",
    "    else:\n",
    "        print(f\"{word.capitalize()}\")\n",
    "              \n",
    "              \n",
    "for each_word in string_oct:\n",
    "              Oct_str(each_word)\n",
    "              "
   ]
  },
  {
   "cell_type": "code",
   "execution_count": null,
   "id": "0954a1be",
   "metadata": {},
   "outputs": [],
   "source": []
  },
  {
   "cell_type": "markdown",
   "id": "c08069b1",
   "metadata": {},
   "source": [
    "# Exercise 10"
   ]
  },
  {
   "cell_type": "code",
   "execution_count": 76,
   "id": "788e2e11",
   "metadata": {
    "scrolled": true
   },
   "outputs": [
    {
     "name": "stdout",
     "output_type": "stream",
     "text": [
      "bananas, apples, milk\n"
     ]
    }
   ],
   "source": [
    "article =\"bananas\", \"apples\", \"milk\" \n",
    "\n",
    "print(\", \".join(article))\n"
   ]
  },
  {
   "cell_type": "code",
   "execution_count": null,
   "id": "920a0577",
   "metadata": {},
   "outputs": [],
   "source": []
  },
  {
   "cell_type": "markdown",
   "id": "6f61a1e8",
   "metadata": {},
   "source": [
    "# Exercise 11"
   ]
  },
  {
   "cell_type": "markdown",
   "id": "27b696aa",
   "metadata": {},
   "source": [
    " replace() in python\n",
    "\n",
    "## Overview:\n",
    "\n",
    "The replace() method replaces each substring of a string that matches the given string.\n",
    "\n",
    "## Task\n",
    "\n",
    "Write a program that replaces the standalone \"dog\" in the following sentence with \"cat\".\n",
    "Use f-string when printing the output.\n",
    "\n",
    "## Input/Output\n",
    "```\n",
    "\"A dogmatic dog buys dogecoin to become rich and buy hotdogs every day.\"  -->  \"Output: A dogmatic cat buys dogecoin to become rich and buy hotdogs every day.\"\n",
    "```\n"
   ]
  },
  {
   "cell_type": "code",
   "execution_count": 107,
   "id": "835db6bc",
   "metadata": {},
   "outputs": [
    {
     "name": "stdout",
     "output_type": "stream",
     "text": [
      " A dogmatic cat buys dogecoin to become rich and buy hotdogs every day. \n"
     ]
    }
   ],
   "source": [
    "new_word =\" \"\n",
    "word= \"A dogmatic dog buys dogecoin to become rich and buy hotdogs every day.\" \n",
    "for each_element in word.split():\n",
    "    if each_element=='dog':\n",
    "        each_element=\"cat\"\n",
    "    new_word +=each_element+\" \" \n",
    "    \n",
    "print(new_word)\n",
    " "
   ]
  },
  {
   "cell_type": "markdown",
   "id": "3e1ad7a5",
   "metadata": {},
   "source": [
    "# OR"
   ]
  },
  {
   "cell_type": "code",
   "execution_count": 110,
   "id": "4a077bc5",
   "metadata": {},
   "outputs": [
    {
     "data": {
      "text/plain": [
       "'A dogmatic cat buys dogecoin to become rich and buy hotdogs every day.'"
      ]
     },
     "execution_count": 110,
     "metadata": {},
     "output_type": "execute_result"
    }
   ],
   "source": [
    "word= \"A dogmatic dog buys dogecoin to become rich and buy hotdogs every day.\" \n",
    "word.replace(\" dog \", \" cat \")"
   ]
  }
 ],
 "metadata": {
  "kernelspec": {
   "display_name": "Python 3 (ipykernel)",
   "language": "python",
   "name": "python3"
  },
  "language_info": {
   "codemirror_mode": {
    "name": "ipython",
    "version": 3
   },
   "file_extension": ".py",
   "mimetype": "text/x-python",
   "name": "python",
   "nbconvert_exporter": "python",
   "pygments_lexer": "ipython3",
   "version": "3.8.10"
  }
 },
 "nbformat": 4,
 "nbformat_minor": 5
}
