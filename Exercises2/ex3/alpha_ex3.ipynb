{
 "cells": [
  {
   "cell_type": "markdown",
   "id": "c82ac6de",
   "metadata": {},
   "source": [
    "# alpha Exercise 3"
   ]
  },
  {
   "cell_type": "markdown",
   "id": "a8596438",
   "metadata": {},
   "source": [
    "# The Secret of Love :\n",
    "#### Everyone wants to hide their secrets, especially if those are their love's secrets\n",
    ":bulb: **To help them we will write a cipher for their secrets.**\n",
    "\n",
    "There will be inputs : :secret: the secret  , :gift_heart: love name,  :birthday: year of birth.\n",
    "\n",
    "> **Secret condition** :point_up: : The secret must be at least **8** **characters**.\n",
    "\n",
    "### The cipher algorithm is :\n",
    "* Concatenate the love secret with the love name     :arrow_heading_down:\n",
    "* Reverse the string :arrow_heading_down:\n",
    "* Concatenate the revered string with the  year of birth :arrow_heading_down:\n",
    "\n",
    ">  ***NOTE:*** We need to cipher the secret itself , not to create a new  ciphered string.\n",
    "\n",
    "### Input\n",
    "```\n",
    "*secret:* this_is_my_secret\n",
    "*name:* Max\n",
    "*year:* 1982\n",
    "```\n",
    "\n",
    "### Output\n",
    "```\n",
    "xaMterces_ym_si_siht1982\n",
    "```\n"
   ]
  },
  {
   "cell_type": "code",
   "execution_count": 7,
   "id": "53640d2e",
   "metadata": {},
   "outputs": [
    {
     "name": "stdout",
     "output_type": "stream",
     "text": [
      "xaMterces_ym_si_siht1982\n"
     ]
    }
   ],
   "source": [
    "secret= \"this_is_my_secret\"\n",
    "name = \"Max\"\n",
    "year= '1982'\n",
    "print(name[::-1] + secret[::-1] +year)"
   ]
  }
 ],
 "metadata": {
  "kernelspec": {
   "display_name": "Python 3 (ipykernel)",
   "language": "python",
   "name": "python3"
  },
  "language_info": {
   "codemirror_mode": {
    "name": "ipython",
    "version": 3
   },
   "file_extension": ".py",
   "mimetype": "text/x-python",
   "name": "python",
   "nbconvert_exporter": "python",
   "pygments_lexer": "ipython3",
   "version": "3.8.10"
  }
 },
 "nbformat": 4,
 "nbformat_minor": 5
}
