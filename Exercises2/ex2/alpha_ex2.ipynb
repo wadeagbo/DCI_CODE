{
 "cells": [
  {
   "cell_type": "markdown",
   "id": "6f3e0a68",
   "metadata": {},
   "source": [
    "# alpha Exercises 2"
   ]
  },
  {
   "cell_type": "markdown",
   "id": "174f34ca",
   "metadata": {},
   "source": [
    "### Task 1\n",
    "\n",
    "Create a variable called ```text``` to store the data: ```Berlin is a world city of culture, politics, media and science.``` . Your task is to print the length of the ```text``` variable on the screen.\n",
    "\n",
    "* Your result should look like this:\n",
    "\n",
    "```bash\n",
    "63\n",
    "```\n"
   ]
  },
  {
   "cell_type": "code",
   "execution_count": 1,
   "id": "2f806451",
   "metadata": {},
   "outputs": [
    {
     "name": "stdout",
     "output_type": "stream",
     "text": [
      "63\n"
     ]
    }
   ],
   "source": [
    "text = \"Berlin is a world city of culture, politics, media and science.\"\n",
    "print(len(text))"
   ]
  },
  {
   "cell_type": "markdown",
   "id": "88d243e4",
   "metadata": {},
   "source": [
    "### Task 2\n",
    "\n",
    "Reuse the variable called ```text```  and print the first and the last characters on the screen.\n",
    "\n",
    "* Your result should look like this:\n",
    "\n",
    "```bash\n",
    "B .\n"
   ]
  },
  {
   "cell_type": "code",
   "execution_count": 3,
   "id": "3b8d6f44",
   "metadata": {},
   "outputs": [
    {
     "name": "stdout",
     "output_type": "stream",
     "text": [
      "B .\n"
     ]
    }
   ],
   "source": [
    "text = \"Berlin is a world city of culture, politics, media and science.\"\n",
    "print(text[0],text[-1])"
   ]
  },
  {
   "cell_type": "markdown",
   "id": "58215efc",
   "metadata": {},
   "source": [
    "### Task 3\n",
    "\n",
    "Reuse the variable called ```text```  and print the first three characters in upper case.\n",
    "\n",
    "* Your result should look like this:\n",
    "\n",
    "```bash\n",
    "First three characters: BER\n"
   ]
  },
  {
   "cell_type": "code",
   "execution_count": 4,
   "id": "4b24c16b",
   "metadata": {},
   "outputs": [
    {
     "name": "stdout",
     "output_type": "stream",
     "text": [
      "BER\n"
     ]
    }
   ],
   "source": [
    "text = \"Berlin is a world city of culture, politics, media and science.\"\n",
    "text_123= text[0:3].upper()\n",
    "print(text_123)"
   ]
  },
  {
   "cell_type": "markdown",
   "id": "e5fd0184",
   "metadata": {},
   "source": [
    "## Task 4\n",
    "\n",
    "Create the variable called ```text``` with the following content:  ```Berlin is surrounded by the State of Brandenburg and contiguous with Potsdam, Brandenburg's capital ```, then count how many times the letter  ```B ``` appears in the text.\n",
    "\n",
    "* Your result should look like this:\n",
    "\n",
    "```bash\n",
    "B appears:  3  times\n"
   ]
  },
  {
   "cell_type": "code",
   "execution_count": 42,
   "id": "7578ad2c",
   "metadata": {},
   "outputs": [
    {
     "name": "stdout",
     "output_type": "stream",
     "text": [
      "B appears: 3 times\n"
     ]
    }
   ],
   "source": [
    "text =\"Berlin is surrounded by the State of Brandenburg and contiguous with Potsdam, Brandenburg's capital \"\n",
    "\n",
    "count =0\n",
    "for Char in text:\n",
    "    if Char==\"B\":\n",
    "        count +=1\n",
    "print(f\"B appears: {count} times\")"
   ]
  },
  {
   "cell_type": "code",
   "execution_count": 47,
   "id": "098d3fb7",
   "metadata": {},
   "outputs": [],
   "source": [
    "#print(f\"B appears: {text.count(\"B\")} times \" )"
   ]
  },
  {
   "cell_type": "markdown",
   "id": "a4dc8609",
   "metadata": {},
   "source": [
    "\n",
    "### Task 5\n",
    "\n",
    "Create a variable called ```text``` to store the data: ```Berlin straddles the banks of the Spree, which flows into the Havel (a tributary of the Elbe) in the western borough of Spandau.``` . Your task is to print the last 10 characters of the ```text``` variable on screen.\n",
    "\n",
    "* Your result should look like this:\n",
    "\n",
    "```bash\n",
    "Last ten characters: f Spandau.\n",
    "```\n",
    "\n"
   ]
  },
  {
   "cell_type": "code",
   "execution_count": 24,
   "id": "4a6482fd",
   "metadata": {},
   "outputs": [
    {
     "name": "stdout",
     "output_type": "stream",
     "text": [
      "Last ten characters: f Spandau.\n"
     ]
    }
   ],
   "source": [
    "text= \"Berlin straddles the banks of the Spree, which flows into the Havel (a tributary of the Elbe) in the western borough of Spandau.\"\n",
    "text_last10=text[-10:]\n",
    "print(f\"Last ten characters: {text_last10}\")"
   ]
  },
  {
   "cell_type": "markdown",
   "id": "5dde9cba",
   "metadata": {},
   "source": [
    "# Task 6\n",
    "\n",
    "Create a variable called ```text``` to store the data: ```---Python programming---``` . Your task is to remove the hyphen (```-```) character from the string.\n",
    "\n",
    "* Your result should look like this:\n",
    "\n",
    "```bash\n",
    "Python programming\n"
   ]
  },
  {
   "cell_type": "code",
   "execution_count": 27,
   "id": "1c7414e7",
   "metadata": {},
   "outputs": [
    {
     "name": "stdout",
     "output_type": "stream",
     "text": [
      "Python programming\n"
     ]
    }
   ],
   "source": [
    "text = \"---Python programming---\"\n",
    "text_hyp_rm= text.replace(\"-\",\"\")\n",
    "print(text_hyp_rm)"
   ]
  },
  {
   "cell_type": "markdown",
   "id": "d4d31467",
   "metadata": {},
   "source": [
    "### Task 7\n",
    "\n",
    "Create two variables to store your first and your last name. Your task is to concatenate the two variables using the appropriate labels.\n",
    "\n",
    "* You should provide a single line print statement.\n",
    "\n",
    "* Your result should look like this:\n",
    "\n",
    "```bash\n",
    "Firstname: Mary\n",
    "Lastname: Mat\n"
   ]
  },
  {
   "cell_type": "code",
   "execution_count": 29,
   "id": "b00fadda",
   "metadata": {},
   "outputs": [
    {
     "name": "stdout",
     "output_type": "stream",
     "text": [
      "Firstname: Mary \n",
      "Lastname: Ḿat\n"
     ]
    }
   ],
   "source": [
    "Firstname = \"Mary\"\n",
    "Lastname= \"Ḿat\"\n",
    "print(f\"Firstname: {Firstname} \\nLastname: {Lastname}\")"
   ]
  },
  {
   "cell_type": "markdown",
   "id": "63657ddc",
   "metadata": {},
   "source": [
    "##### OR"
   ]
  },
  {
   "cell_type": "code",
   "execution_count": 41,
   "id": "ab5292bb",
   "metadata": {},
   "outputs": [
    {
     "name": "stdout",
     "output_type": "stream",
     "text": [
      "Firstname: Mary \n",
      "Lastname: Ḿat\n"
     ]
    }
   ],
   "source": [
    "print(\"Firstname: \" + Firstname,  \"\\n\"   + \"Lastname: \" + Lastname)"
   ]
  },
  {
   "cell_type": "code",
   "execution_count": null,
   "id": "bd6b3c1b",
   "metadata": {},
   "outputs": [],
   "source": []
  }
 ],
 "metadata": {
  "kernelspec": {
   "display_name": "Python 3 (ipykernel)",
   "language": "python",
   "name": "python3"
  },
  "language_info": {
   "codemirror_mode": {
    "name": "ipython",
    "version": 3
   },
   "file_extension": ".py",
   "mimetype": "text/x-python",
   "name": "python",
   "nbconvert_exporter": "python",
   "pygments_lexer": "ipython3",
   "version": "3.8.10"
  }
 },
 "nbformat": 4,
 "nbformat_minor": 5
}
