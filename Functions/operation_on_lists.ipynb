{
 "cells": [
  {
   "cell_type": "markdown",
   "id": "e95f1c88",
   "metadata": {},
   "source": [
    "#  List opertations"
   ]
  },
  {
   "cell_type": "markdown",
   "id": "3a53c770",
   "metadata": {},
   "source": [
    "### Copy"
   ]
  },
  {
   "cell_type": "code",
   "execution_count": 184,
   "id": "d4ab08a5",
   "metadata": {},
   "outputs": [
    {
     "name": "stdout",
     "output_type": "stream",
     "text": [
      "['Victor', 'Peter', 'Mary', 'John', 'Badara', 'Peer']\n"
     ]
    }
   ],
   "source": [
    "names = [\"Victor\", \"Peter\", \"Mary\", \"John\", \"Badara\", \"Peer\"]\n",
    "copy_name = names.copy()\n",
    "print(copy_name)"
   ]
  },
  {
   "cell_type": "markdown",
   "id": "3b27cdac",
   "metadata": {},
   "source": [
    "## using an index, replace \"Peer\" with \"Malcom X\""
   ]
  },
  {
   "cell_type": "code",
   "execution_count": 185,
   "id": "fb217c6a",
   "metadata": {},
   "outputs": [
    {
     "data": {
      "text/plain": [
       "['Victor', 'Malcom X', 'Mary', 'John', 'Badara', 'Peer']"
      ]
     },
     "execution_count": 185,
     "metadata": {},
     "output_type": "execute_result"
    }
   ],
   "source": [
    "names[1] = \"Malcom X\"\n",
    "names"
   ]
  },
  {
   "cell_type": "markdown",
   "id": "cd969c73",
   "metadata": {},
   "source": [
    "# Add two names to the list of names"
   ]
  },
  {
   "cell_type": "markdown",
   "id": "fe324ec0",
   "metadata": {},
   "source": [
    "# Extend the list"
   ]
  },
  {
   "cell_type": "code",
   "execution_count": 186,
   "id": "aca47985",
   "metadata": {},
   "outputs": [],
   "source": [
    "new_list= [\"Waheed\", \"Lydia\"]"
   ]
  },
  {
   "cell_type": "code",
   "execution_count": 187,
   "id": "431a038a",
   "metadata": {},
   "outputs": [
    {
     "data": {
      "text/plain": [
       "['Victor', 'Malcom X', 'Mary', 'John', 'Badara', 'Peer', 'Waheed', 'Lydia']"
      ]
     },
     "execution_count": 187,
     "metadata": {},
     "output_type": "execute_result"
    }
   ],
   "source": [
    "names.extend(new_list)\n",
    "names"
   ]
  },
  {
   "cell_type": "markdown",
   "id": "fd316b97",
   "metadata": {},
   "source": [
    "# Reverse names"
   ]
  },
  {
   "cell_type": "code",
   "execution_count": 188,
   "id": "58a961c5",
   "metadata": {},
   "outputs": [
    {
     "data": {
      "text/plain": [
       "['Lydia', 'Waheed', 'Peer', 'Badara', 'John', 'Mary', 'Malcom X', 'Victor']"
      ]
     },
     "execution_count": 188,
     "metadata": {},
     "output_type": "execute_result"
    }
   ],
   "source": [
    "names.reverse()\n",
    "names"
   ]
  },
  {
   "cell_type": "code",
   "execution_count": 189,
   "id": "00aef9ac",
   "metadata": {},
   "outputs": [
    {
     "data": {
      "text/plain": [
       "2"
      ]
     },
     "execution_count": 189,
     "metadata": {},
     "output_type": "execute_result"
    }
   ],
   "source": [
    "# get the index of 'Peer'\n",
    "index = names.index('Peer')\n",
    "index"
   ]
  },
  {
   "cell_type": "code",
   "execution_count": 190,
   "id": "8a200dfd",
   "metadata": {},
   "outputs": [
    {
     "name": "stdout",
     "output_type": "stream",
     "text": [
      "['Lydia', 'Waheed', 'Peer', 'Badara', 'John', 'Mary', 'Malcom X', 'Victor', 'Jerry']\n"
     ]
    }
   ],
   "source": [
    "# append 'Yen' to the list\n",
    "names.append('Jerry')\n",
    "print(names)"
   ]
  },
  {
   "cell_type": "code",
   "execution_count": 191,
   "id": "5271297b",
   "metadata": {},
   "outputs": [
    {
     "name": "stdout",
     "output_type": "stream",
     "text": [
      "['Lydia', 'Waheed', 'Peer', 'Bella', 'Badara', 'John', 'Mary', 'Malcom X', 'Victor', 'Jerry']\n"
     ]
    }
   ],
   "source": [
    "# 'Bella' is inserted at index 3 (4th position)\n",
    "names.insert(3, 'Bella')\n",
    "print(names)"
   ]
  },
  {
   "cell_type": "code",
   "execution_count": 192,
   "id": "012a73b7",
   "metadata": {},
   "outputs": [
    {
     "name": "stdout",
     "output_type": "stream",
     "text": [
      "['Lydia', 'Waheed', 'Peer', 'Bella', 'Badara', 'Mary', 'Malcom X', 'Victor', 'Jerry']\n"
     ]
    }
   ],
   "source": [
    "# remove \"John\" from the list\n",
    "\n",
    "names.remove(\"John\")\n",
    "print(names)"
   ]
  },
  {
   "cell_type": "code",
   "execution_count": 193,
   "id": "b1a5f67e",
   "metadata": {},
   "outputs": [
    {
     "name": "stdout",
     "output_type": "stream",
     "text": [
      "Count of Bella: 1\n"
     ]
    }
   ],
   "source": [
    "# check the count of 'Peer'\n",
    "count = names.count('Bella')\n",
    "print('Count of Bella:', count)"
   ]
  },
  {
   "cell_type": "code",
   "execution_count": 194,
   "id": "f2799330",
   "metadata": {},
   "outputs": [
    {
     "name": "stdout",
     "output_type": "stream",
     "text": [
      "Removed Element: Peer\n",
      "Updated List: ['Lydia', 'Waheed', 'Bella', 'Badara', 'Mary', 'Malcom X', 'Victor', 'Jerry']\n"
     ]
    }
   ],
   "source": [
    "# remove the element at index 2\n",
    "removed_element = names.pop(2)\n",
    "print('Removed Element:', removed_element)\n",
    "print('Updated List:', names)"
   ]
  },
  {
   "cell_type": "code",
   "execution_count": 195,
   "id": "6ffefcf6",
   "metadata": {},
   "outputs": [
    {
     "name": "stdout",
     "output_type": "stream",
     "text": [
      "['Badara', 'Bella', 'Jerry', 'Lydia', 'Malcom X', 'Mary', 'Victor', 'Waheed']\n"
     ]
    }
   ],
   "source": [
    "# sorting the list in ascending order\n",
    "names.sort()\n",
    "print(names)"
   ]
  },
  {
   "cell_type": "code",
   "execution_count": 196,
   "id": "1724f7eb",
   "metadata": {},
   "outputs": [],
   "source": [
    "# remove all elements\n",
    "#names.clear()\n",
    "#print(\"cleared elements\", names)"
   ]
  },
  {
   "cell_type": "code",
   "execution_count": null,
   "id": "ae2134eb",
   "metadata": {},
   "outputs": [],
   "source": []
  },
  {
   "cell_type": "markdown",
   "id": "7d9c9878",
   "metadata": {},
   "source": [
    "# Loop in Python"
   ]
  },
  {
   "cell_type": "code",
   "execution_count": 197,
   "id": "2fd74b3a",
   "metadata": {},
   "outputs": [
    {
     "name": "stdout",
     "output_type": "stream",
     "text": [
      "Badara\n",
      "Bella\n",
      "Jerry\n",
      "Lydia\n",
      "Malcom X\n",
      "Mary\n",
      "Victor\n",
      "Waheed\n"
     ]
    }
   ],
   "source": [
    "for nam in names:\n",
    "    print(nam)"
   ]
  },
  {
   "cell_type": "code",
   "execution_count": 201,
   "id": "441c0130",
   "metadata": {},
   "outputs": [
    {
     "name": "stdout",
     "output_type": "stream",
     "text": [
      "Felipe Gonzalez \n"
     ]
    }
   ],
   "source": [
    "\n",
    "bnames = [\"Felipe\", \"Gonzalez\"]\n",
    "full_string = \"\"\n",
    "for b in bnames:\n",
    "    full_string +=f\"{b} \"\n",
    "    \n",
    "print(full_string)"
   ]
  },
  {
   "cell_type": "code",
   "execution_count": null,
   "id": "0aa6c0e4",
   "metadata": {},
   "outputs": [],
   "source": []
  }
 ],
 "metadata": {
  "kernelspec": {
   "display_name": "Python 3 (ipykernel)",
   "language": "python",
   "name": "python3"
  },
  "language_info": {
   "codemirror_mode": {
    "name": "ipython",
    "version": 3
   },
   "file_extension": ".py",
   "mimetype": "text/x-python",
   "name": "python",
   "nbconvert_exporter": "python",
   "pygments_lexer": "ipython3",
   "version": "3.8.10"
  }
 },
 "nbformat": 4,
 "nbformat_minor": 5
}
