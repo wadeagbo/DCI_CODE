{
 "cells": [
  {
   "cell_type": "code",
   "execution_count": 2,
   "id": "83ca407f",
   "metadata": {},
   "outputs": [],
   "source": [
    "names = (\"Victor\", \"Peter\", \"Mary\", \"John\", \"Badara\", \"Peer\")"
   ]
  },
  {
   "cell_type": "code",
   "execution_count": 3,
   "id": "4854ad73",
   "metadata": {},
   "outputs": [
    {
     "data": {
      "text/plain": [
       "'Mary'"
      ]
     },
     "execution_count": 3,
     "metadata": {},
     "output_type": "execute_result"
    }
   ],
   "source": [
    "names[2]"
   ]
  },
  {
   "cell_type": "code",
   "execution_count": 7,
   "id": "2f47d42f",
   "metadata": {},
   "outputs": [
    {
     "data": {
      "text/plain": [
       "1"
      ]
     },
     "execution_count": 7,
     "metadata": {},
     "output_type": "execute_result"
    }
   ],
   "source": [
    "names.count(\"Peter\")"
   ]
  },
  {
   "cell_type": "code",
   "execution_count": null,
   "id": "8275f013",
   "metadata": {},
   "outputs": [],
   "source": []
  }
 ],
 "metadata": {
  "kernelspec": {
   "display_name": "Python 3 (ipykernel)",
   "language": "python",
   "name": "python3"
  },
  "language_info": {
   "codemirror_mode": {
    "name": "ipython",
    "version": 3
   },
   "file_extension": ".py",
   "mimetype": "text/x-python",
   "name": "python",
   "nbconvert_exporter": "python",
   "pygments_lexer": "ipython3",
   "version": "3.8.10"
  }
 },
 "nbformat": 4,
 "nbformat_minor": 5
}
