{
 "cells": [
  {
   "cell_type": "code",
   "execution_count": 4,
   "id": "7a9355eb",
   "metadata": {},
   "outputs": [],
   "source": [
    "import re"
   ]
  },
  {
   "cell_type": "markdown",
   "id": "c339fad8",
   "metadata": {},
   "source": [
    "# String Regex 1\n",
    "\n",
    "## Python Regex\n",
    "\n",
    "In this exercise, we will focus on the use and manipulation of text  in Python, including:\n",
    "\n",
    "- Using the Python regex\n",
    "- Creating custom regex patterns\n",
    "\n",
    "## Tasks\n",
    "\n",
    "### Task 1\n",
    "\n",
    "Create a variable called `text` to store the data: `Berlin is a world city of culture, politics, media and science.` . Then search for the first white space character in the string and print its location using the appropriate label.\n",
    "\n",
    "- Your result should look like this:\n",
    "\n",
    "```\n",
    "The first white-space character is located at position: 6\n",
    "```\n",
    "\n",
    "### Task 2\n",
    "\n",
    "Create a variable called `text` to store the data: `Berlin is surrounded by the State of Brandenburg and contiguous with Potsdam, Brandenburg's capital.` . Then search for the word `Frankfurt` in the string .\n",
    "\n",
    "- Your result should look like this:\n",
    "\n",
    "```\n",
    "None\n",
    "```\n",
    "### Task 3\n",
    "\n",
    "Create a variable called `text` to store the data: `Berlin is a city of culture.` . Replace the spaces with a hyphen.\n",
    "\n",
    "- Your result should look like this:\n",
    "\n",
    "```\n",
    "Berlin-is-a-city-of-culture.\n",
    "```\n",
    "\n",
    "### Task 4\n",
    "\n",
    "Create a variable called `text` to store the data: `Berlin is a city of culture.` . Search if the phrase `in` appears inside the string. Print the output of the regex function.\n",
    "\n",
    "- Your result should look like this:\n",
    "\n",
    "```\n",
    "<re.Match object; span=(4, 6), match='in'>\n",
    "```\n",
    "\n",
    "### Task 5\n",
    "\n",
    "Use the `text` variable from the previous task. Create a regular expression to look for any word that starts with an upper case \"B\". Print the position (start- and end-position) of the first match occurrence.\n",
    "\n",
    "- Your result should look like this:\n",
    "\n",
    "```\n",
    "(0, 6)\n",
    "```\n",
    "\n",
    "\n",
    "### Task 6\n",
    "\n",
    "Create a variable called `text` to store the data: `The rain in Spain.`. Count how many times the subphrase `ai` appears in the string. Print the results on the screen.\n",
    "\n",
    "- Your result should look like this:\n",
    "\n",
    "```\n",
    "2\n",
    "```\n",
    "\n"
   ]
  },
  {
   "cell_type": "markdown",
   "id": "4db6ccde",
   "metadata": {},
   "source": [
    "### Task 1"
   ]
  },
  {
   "cell_type": "code",
   "execution_count": 19,
   "id": "15c5e9a1",
   "metadata": {},
   "outputs": [
    {
     "name": "stdout",
     "output_type": "stream",
     "text": [
      "The first white-space character is located at position:  6\n"
     ]
    }
   ],
   "source": [
    "text1 =\"\"\"Berlin is a world city of culture, politics, media and science.\"\"\"\n",
    "pattern1 = r\"\\s\"\n",
    "match1 = re.search(pattern1,text1).span()[0]\n",
    "print(\"The first white-space character is located at position: \", match1)"
   ]
  },
  {
   "cell_type": "markdown",
   "id": "55748eb6",
   "metadata": {},
   "source": [
    "### Task 2"
   ]
  },
  {
   "cell_type": "code",
   "execution_count": 12,
   "id": "d4898141",
   "metadata": {
    "scrolled": true
   },
   "outputs": [
    {
     "name": "stdout",
     "output_type": "stream",
     "text": [
      "None\n"
     ]
    }
   ],
   "source": [
    "text2 =\"\"\"Berlin is surrounded by the State of Brandenburg and contiguous with Potsdam, Brandenburg's capital.\"\"\"\n",
    "pattern2 = r\"Frankfurt\"\n",
    "match2 = re.search(pattern2,text2)\n",
    "print(match2)"
   ]
  },
  {
   "cell_type": "markdown",
   "id": "5751c1c0",
   "metadata": {},
   "source": [
    "### Task 3"
   ]
  },
  {
   "cell_type": "code",
   "execution_count": 13,
   "id": "b36ac38d",
   "metadata": {},
   "outputs": [
    {
     "name": "stdout",
     "output_type": "stream",
     "text": [
      "Berlin-is-a-city-of-culture.\n"
     ]
    }
   ],
   "source": [
    "text3 =\"\"\"Berlin is a city of culture.\"\"\"\n",
    "pattern3 = r\"\\s\"\n",
    "match3 = re.sub(pattern3, '-', text3)\n",
    "print(match3)"
   ]
  },
  {
   "cell_type": "markdown",
   "id": "22ec00ee",
   "metadata": {},
   "source": [
    "### Task 4"
   ]
  },
  {
   "cell_type": "code",
   "execution_count": 15,
   "id": "56e5f8fb",
   "metadata": {},
   "outputs": [
    {
     "name": "stdout",
     "output_type": "stream",
     "text": [
      "<re.Match object; span=(4, 6), match='in'>\n"
     ]
    }
   ],
   "source": [
    "text4 =\"\"\"Berlin is a city of culture.\"\"\"\n",
    "pattern4 = r\"in\"\n",
    "match4 = re.search(pattern4, text4)\n",
    "print(match4)"
   ]
  },
  {
   "cell_type": "markdown",
   "id": "835233a2",
   "metadata": {},
   "source": [
    "### Task 5\n"
   ]
  },
  {
   "cell_type": "code",
   "execution_count": 21,
   "id": "1e8f80c0",
   "metadata": {},
   "outputs": [
    {
     "name": "stdout",
     "output_type": "stream",
     "text": [
      "(0, 6)\n"
     ]
    }
   ],
   "source": [
    "text5 =\"\"\"Berlin is a city of culture.\"\"\"\n",
    "pattern5 = r\"B\\w+\"\n",
    "match5 = re.search(pattern5, text5).span()\n",
    "print(match5)"
   ]
  },
  {
   "cell_type": "markdown",
   "id": "fb16b3a6",
   "metadata": {},
   "source": [
    "### Task 6\n"
   ]
  },
  {
   "cell_type": "code",
   "execution_count": 24,
   "id": "be06173f",
   "metadata": {},
   "outputs": [
    {
     "name": "stdout",
     "output_type": "stream",
     "text": [
      "2\n"
     ]
    }
   ],
   "source": [
    "text6 =\"\"\"The rain in Spain.\"\"\"\n",
    "pattern6 = r\"ai\"\n",
    "match6 = len(re.findall(pattern6, text6))\n",
    "print(match6)"
   ]
  },
  {
   "cell_type": "code",
   "execution_count": null,
   "id": "7bd2ab86",
   "metadata": {},
   "outputs": [],
   "source": []
  }
 ],
 "metadata": {
  "kernelspec": {
   "display_name": "Python 3 (ipykernel)",
   "language": "python",
   "name": "python3"
  },
  "language_info": {
   "codemirror_mode": {
    "name": "ipython",
    "version": 3
   },
   "file_extension": ".py",
   "mimetype": "text/x-python",
   "name": "python",
   "nbconvert_exporter": "python",
   "pygments_lexer": "ipython3",
   "version": "3.8.10"
  }
 },
 "nbformat": 4,
 "nbformat_minor": 5
}
