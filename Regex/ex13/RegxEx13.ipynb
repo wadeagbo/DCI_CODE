{
 "cells": [
  {
   "cell_type": "markdown",
   "id": "132ed002",
   "metadata": {},
   "source": [
    "\n",
    "## Understand the meaning\n",
    "\n",
    "Figure out the meaning of given regular expressions. Feel free to use code or [online interpreter](https://extendsclass.com/regex-tester.html#python) to test your assumption.\n",
    "\n",
    "In order to solve this exercise just explain the meaning together with an example below the given Regex.\n",
    "\n",
    "### For example\n",
    "\n",
    "([A-Z])\\w+\n",
    "Extracts words with a starting capital letter.\n",
    "e.g.: Hello my name is Mathias --> matches \"Hello\" and \"Mathias\"\n",
    "\n",
    "---\n",
    "\n",
    "1. colou?r\n",
    "--> color or colour\n",
    "\n",
    "2. (\\W|^)[\\w.\\-]{0,25}@(gmail|deliveryhero)\\.com(\\W|$)\n",
    "--> emails with TLD gmail.com or deliveryhero.com\n",
    "\n",
    "3. ^(?=.\\*[a-z])(?=.\\*[A-Z])(?=.\\*\\d).{6,12}$\n",
    "--> PW\n",
    "6 to 12 characters in length\n",
    "Must have at least one uppercase letter\n",
    "Must have at least one lower case letter\n",
    "Must have at least one digit\n",
    "Should contain other characters\n",
    "\n",
    "\n",
    "4. ^\\#?([a-f0-9]{6}|[a-f0-9]{3})$\n",
    "--> hex color code\n",
    "\n",
    "5. done$\n",
    "--> a text that ends with \"done\"\n"
   ]
  },
  {
   "cell_type": "code",
   "execution_count": 2,
   "id": "7c62cccd",
   "metadata": {},
   "outputs": [],
   "source": [
    "import re"
   ]
  },
  {
   "cell_type": "markdown",
   "id": "fa3bd6a7",
   "metadata": {},
   "source": [
    "### Task"
   ]
  },
  {
   "cell_type": "code",
   "execution_count": 16,
   "id": "a291d5c3",
   "metadata": {},
   "outputs": [
    {
     "name": "stdout",
     "output_type": "stream",
     "text": [
      "['Hello', 'Mathias']\n"
     ]
    }
   ],
   "source": [
    "text1 =\"\"\"Hello my name is Mathias\"\"\"\n",
    "pattern1 = r\"[A-Z]\\w+\"\n",
    "match1 = re.findall(pattern1,text1)\n",
    "print(match1)"
   ]
  },
  {
   "cell_type": "markdown",
   "id": "568ee7a1",
   "metadata": {},
   "source": [
    "### Task"
   ]
  },
  {
   "cell_type": "code",
   "execution_count": 79,
   "id": "f4cc18f7",
   "metadata": {},
   "outputs": [
    {
     "name": "stdout",
     "output_type": "stream",
     "text": [
      "(('col', ''), [1])\n"
     ]
    }
   ],
   "source": [
    "text1 =\"\"\"colou?r\"\"\"\n",
    "pattern1 = r\"([a-z]{3})|(r)\"\n",
    "#pattern1 = r\"(\\w)\"\n",
    "match1 = re.findall(pattern1,text1)[0]\n",
    "#match1=\"\".join(match1)\n",
    "\n",
    "print(match1)"
   ]
  },
  {
   "cell_type": "code",
   "execution_count": null,
   "id": "d5e4204f",
   "metadata": {},
   "outputs": [],
   "source": [
    "xl= []\n"
   ]
  },
  {
   "cell_type": "code",
   "execution_count": null,
   "id": "4c723e82",
   "metadata": {},
   "outputs": [],
   "source": []
  }
 ],
 "metadata": {
  "kernelspec": {
   "display_name": "Python 3 (ipykernel)",
   "language": "python",
   "name": "python3"
  },
  "language_info": {
   "codemirror_mode": {
    "name": "ipython",
    "version": 3
   },
   "file_extension": ".py",
   "mimetype": "text/x-python",
   "name": "python",
   "nbconvert_exporter": "python",
   "pygments_lexer": "ipython3",
   "version": "3.8.10"
  }
 },
 "nbformat": 4,
 "nbformat_minor": 5
}
